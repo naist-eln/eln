{
 "cells": [
  {
   "metadata": {},
   "cell_type": "markdown",
   "source": [
    "SPDX-FileCopyrightText: © 2025 Data Science Center, Nara Institute of Science and Technology \\<naist_eln@ml.naist.ac.jp\\> </br>\n",
    "SPDX-License-Identifier: AGPL-3.0"
   ],
   "id": "cfda9b8ffe8fd954"
  },
  {
   "metadata": {},
   "cell_type": "markdown",
   "source": "# Tutorial #1: APIを用いたeLabFTWのノート作成",
   "id": "559e73eb2b315c01"
  },
  {
   "metadata": {},
   "cell_type": "markdown",
   "source": "<b>Note:</b> ご不明な点がございましたら、lee.jemyung@naist.ac.jp にご連絡ください",
   "id": "b323005be74f6aa"
  },
  {
   "metadata": {},
   "cell_type": "markdown",
   "source": [
    "## **Step 3:** APIを使ってオフラインで作成したデータを入れてみましょう（1/2）\n",
    "#### CSV形式で作成した実験データを読み込み、指定したテンプレートのテーブルにデータを入力するサンプルコード"
   ],
   "id": "6b24088baa60f922"
  },
  {
   "metadata": {},
   "cell_type": "markdown",
   "source": "#### Note: _Step 3_ で<span style='color: orange'>新しくお知らせする部分のタイトル</span>はオレンジ色で表示し、その他の部分では _Step 1_ 又は _Step 2_ と同じ内容となります。",
   "id": "66771dfdb9606063"
  },
  {
   "metadata": {},
   "cell_type": "markdown",
   "source": [
    "## 前準備\n",
    "###　「.env」ファイルの作成\n",
    "「.env」ファイルの作成に関しては[**<ins>こちら</ins>**](https://github.com/naist-eln/eln/blob/main/API/eLabFTW_API_env.ipynb)をご覧ください。<br>\n",
    "「.env」ファイルがすでに用意されている場合は、そのまま次に進んでください。"
   ],
   "id": "31f2806d6b73af0d"
  },
  {
   "metadata": {},
   "cell_type": "markdown",
   "source": [
    "### <span style='color: orange'>入力ファイルの設定</span>\n",
    "テーブルのデータが保存されたCSVファイルとデータが保存されるテンプレートとテーブルのタイトルを指定<br>\n",
    "+ 「exp_file」: 入力するCSVファイルのパスとファイル名<br>\n",
    "+ 「template_id」: テンプレートのID (省略可)<br>\n",
    "+ 「template_title」: テンプレートのタイトル名<br>\n",
    "+ 「table_name」: データを追加するテーブルのタイトル\n",
    "+ 「sample_id」: サンプルID (省略可)<br>"
   ],
   "id": "f89b0d148b0a5406"
  },
  {
   "metadata": {
    "ExecuteTime": {
     "end_time": "2024-12-06T03:44:59.738395Z",
     "start_time": "2024-12-06T03:44:59.736572Z"
    }
   },
   "cell_type": "code",
   "source": [
    "exp_file = './test_file/exp_sample.csv'\n",
    "template_id = ''\n",
    "template_title = 'Test_No2'\n",
    "table_name = '結果'\n",
    "sample_id = ''"
   ],
   "id": "1a15d076ee8692b6",
   "outputs": [],
   "execution_count": 1
  },
  {
   "metadata": {},
   "cell_type": "markdown",
   "source": [
    "### コード駆動準備\n",
    "ライブラリ、パッケージ、モジュールの呼び出しと設定"
   ],
   "id": "b590b3f6f18dda26"
  },
  {
   "metadata": {
    "ExecuteTime": {
     "end_time": "2024-12-06T03:45:02.520334Z",
     "start_time": "2024-12-06T03:45:02.396921Z"
    }
   },
   "cell_type": "code",
   "source": [
    "import os\n",
    "import re\n",
    "import csv\n",
    "import elabapi_python\n",
    "from elabapi_python.rest import ApiException\n",
    "import json\n",
    "from requests.exceptions import HTTPError\n",
    "import numpy as np\n",
    "import pandas as pd\n",
    "from pandas import json_normalize\n",
    "from IPython.display import display, HTML\n",
    "from bs4 import BeautifulSoup\n",
    "import requests\n",
    "import codecs\n",
    "import smbclient\n",
    "from smb.SMBConnection import SMBConnection\n",
    "from dotenv import load_dotenv\n",
    "import warnings\n",
    "from urllib3.exceptions import InsecureRequestWarning\n",
    "from difflib import get_close_matches\n",
    "\n",
    "# APIクライアントの設定\n",
    "load_dotenv()\n",
    "configuration = elabapi_python.Configuration()\n",
    "configuration.host = os.environ[\"HOST_URL\"]\n",
    "configuration.api_key['Authorization'] = os.environ[\"API_KEY\"]\n",
    "configuration.debug = False\n",
    "configuration.verify_ssl = False\n",
    "\n",
    "# SSL警告を無効化\n",
    "warnings.simplefilter('ignore', InsecureRequestWarning)\n",
    "\n",
    "# 各種のインスタンスを作成\n",
    "api_client = elabapi_python.ApiClient(configuration)\n",
    "api_client.set_default_header(header_name = 'Authorization', header_value = configuration.api_key['Authorization'] )\n",
    "experimentsApi = elabapi_python.ExperimentsApi(api_client)\n",
    "templatesApi = elabapi_python.ExperimentsTemplatesApi(api_client)\n",
    "uploadsApi = elabapi_python.UploadsApi(api_client)\n",
    "itemsApi = elabapi_python.ItemsApi(api_client)"
   ],
   "id": "2ff0feb28ddc4ae2",
   "outputs": [],
   "execution_count": 2
  },
  {
   "metadata": {},
   "cell_type": "markdown",
   "source": [
    "### <span style='color: orange'>CSVファイルデータ取得</span>\n",
    "「exp_file」に指定されたCSVファイルを読み込み、最初の行のデータはカラム名で、2番目の行から各カラムのデータとして保存する。"
   ],
   "id": "1c0503d66fd43c93"
  },
  {
   "metadata": {
    "ExecuteTime": {
     "end_time": "2024-12-06T03:45:03.881401Z",
     "start_time": "2024-12-06T03:45:03.877165Z"
    }
   },
   "cell_type": "code",
   "source": [
    "f = open(exp_file, 'r', encoding='utf-8-sig')\n",
    "rdr = list(csv.reader(f))\n",
    "tb_ttl = rdr[0]\n",
    "tb_cnt = rdr[1:]"
   ],
   "id": "19b9d1550d09de32",
   "outputs": [],
   "execution_count": 3
  },
  {
   "metadata": {},
   "cell_type": "markdown",
   "source": "## 実験ノート作成",
   "id": "f7fd80ffda3796ad"
  },
  {
   "metadata": {},
   "cell_type": "markdown",
   "source": [
    "### テンプレートリストの確認\n",
    "現在登録されているテンプレートのリストを表示します。テンプレートのIDとTitleを確認することができます。"
   ],
   "id": "29986bd7513b9fce"
  },
  {
   "metadata": {
    "ExecuteTime": {
     "end_time": "2024-12-06T03:45:13.790175Z",
     "start_time": "2024-12-06T03:45:13.577983Z"
    }
   },
   "cell_type": "code",
   "source": [
    "# テンプレートIDとタイトルを取得\n",
    "templates_data = []\n",
    "errors = []\n",
    "\n",
    "try:\n",
    "    templates_list = templatesApi.read_experiments_templates()\n",
    "    \n",
    "    for template in templates_list:\n",
    "        try:\n",
    "            templates_data.append({\n",
    "                'ID': template.id,\n",
    "                'Title': template.title\n",
    "            })\n",
    "        except AttributeError as e:\n",
    "            errors.append(f\"AttributeError for template ID {template.id}: {e}\")\n",
    "        except Exception as e:\n",
    "            errors.append(f\"An error occurred for template ID {template.id}: {e}\")\n",
    "\n",
    "except ApiException as e:\n",
    "    print(f\"Exception when calling TemplatesApi->read_experiments_templates: {e}\\n\")\n",
    "    if e.body:\n",
    "        print(f\"Error details: {e.body}\\n\")\n",
    "\n",
    "# データフレームに変換して表示\n",
    "templates_df = pd.DataFrame(templates_data)\n",
    "templates_df[['ID']] = templates_df[['ID']].astype(str)\n",
    "display(templates_df)\n",
    "\n",
    "# エラーの内容を表示\n",
    "if errors:\n",
    "    print(\"Errors encountered:\")\n",
    "    for error in errors:\n",
    "        print(error)"
   ],
   "id": "feb43763f820183b",
   "outputs": [
    {
     "data": {
      "text/plain": [
       "    ID      Title\n",
       "0  109  Test_No.1\n",
       "1  108  Test_No.2"
      ],
      "text/html": [
       "<div>\n",
       "<style scoped>\n",
       "    .dataframe tbody tr th:only-of-type {\n",
       "        vertical-align: middle;\n",
       "    }\n",
       "\n",
       "    .dataframe tbody tr th {\n",
       "        vertical-align: top;\n",
       "    }\n",
       "\n",
       "    .dataframe thead th {\n",
       "        text-align: right;\n",
       "    }\n",
       "</style>\n",
       "<table border=\"1\" class=\"dataframe\">\n",
       "  <thead>\n",
       "    <tr style=\"text-align: right;\">\n",
       "      <th></th>\n",
       "      <th>ID</th>\n",
       "      <th>Title</th>\n",
       "    </tr>\n",
       "  </thead>\n",
       "  <tbody>\n",
       "    <tr>\n",
       "      <th>0</th>\n",
       "      <td>109</td>\n",
       "      <td>Test_No.1</td>\n",
       "    </tr>\n",
       "    <tr>\n",
       "      <th>1</th>\n",
       "      <td>108</td>\n",
       "      <td>Test_No.2</td>\n",
       "    </tr>\n",
       "  </tbody>\n",
       "</table>\n",
       "</div>"
      ]
     },
     "metadata": {},
     "output_type": "display_data"
    }
   ],
   "execution_count": 4
  },
  {
   "metadata": {},
   "cell_type": "markdown",
   "source": [
    "### テンプレートの割り当て\n",
    "指定したIDまたはTitleからテンプレートを割り当て、IDとTitleを確定</br>\n",
    "コード実行時に割り当てられたIDとTitleが表示される。</br>\n",
    "<span style='color: red'>**<ins>NOTE</ins>**</span></br>\n",
    "入力されたタイトルと一致するテンプレートがない場合、最も近いタイトルのテンプレートとして自動的に指定する。 </br>\n",
    "案内メッセージが表示されますので、ご確認後、異常がない場合はお進みください。"
   ],
   "id": "d1d453b04ba60122"
  },
  {
   "metadata": {
    "ExecuteTime": {
     "end_time": "2024-12-06T03:45:17.661444Z",
     "start_time": "2024-12-06T03:45:17.656087Z"
    }
   },
   "cell_type": "code",
   "source": [
    "detected_title = \"\"\n",
    "try:\n",
    "    if template_id and (templates_df['ID'] == template_id).any():\n",
    "        detected_title = templates_df.loc[templates_df['ID'] == template_id, 'Title'].values[0]\n",
    "        if not template_title:\n",
    "            template_title = detected_title\n",
    "    elif template_title:\n",
    "        if (templates_df['Title'] == template_title).any():\n",
    "            detected_title = template_title\n",
    "        else:\n",
    "            detected_title = get_close_matches(template_title, templates_df['Title'] , 3, 0.7)\n",
    "            if detected_title:\n",
    "                detected_title = detected_title[0]\n",
    "            else:\n",
    "                raise ValueError(f\"Template title is not detected.\")\n",
    "        template_id = templates_df.loc[templates_df['Title'] == detected_title, 'ID'].values[0]\n",
    "    else:\n",
    "        raise ValueError(\"Please enter a valid template ID or Title, above.\")\n",
    "    \n",
    "    print(f\"Template title is assigned to \\\"{detected_title}\\\"\" + (\".\" if detected_title == template_title else f\", altered from \\\"{template_title}\\\".\"))\n",
    "\n",
    "    if template_id in templates_df['ID'].values:\n",
    "        print(f\"Template ID: {template_id}\")\n",
    "    else:\n",
    "        raise ValueError(f\"Template ID {template_id} not found in templates_df\")\n",
    "except ValueError as e:\n",
    "    print(\"ValueError: %s\\n\" % e)"
   ],
   "id": "3c821b950a984297",
   "outputs": [
    {
     "name": "stdout",
     "output_type": "stream",
     "text": [
      "Template title is assigned to \"Test_No.2\", altered from \"Test_No2\".\n",
      "Template ID: 108\n"
     ]
    }
   ],
   "execution_count": 5
  },
  {
   "metadata": {},
   "cell_type": "markdown",
   "source": [
    "### テンプレートの取得\n",
    "割り当てられたIDのテンプレートを取得"
   ],
   "id": "7636fe3ee07a87bb"
  },
  {
   "metadata": {
    "ExecuteTime": {
     "end_time": "2024-12-06T03:45:22.127774Z",
     "start_time": "2024-12-06T03:45:21.973319Z"
    }
   },
   "cell_type": "code",
   "source": [
    "# Prepare the body for creating an experiment\n",
    "template = None\n",
    "experiment_body = {\n",
    "    \"category_id\": template_id,  # カテゴリIDを指定\n",
    "}\n",
    "\n",
    "try:\n",
    "    if template_id in templates_df['ID'].values:\n",
    "        template = templatesApi.get_experiment_template(template_id)\n",
    "        print(f\"Template (ID: {template_id}) is ready to use.\")\n",
    "    else:\n",
    "        raise ValueError(f\"Template ID {template_id} not found in templates dataframe.\")\n",
    "except ValueError as e:\n",
    "    print(\"ValueError: %s\\n\" % e)"
   ],
   "id": "c72fd690c4ea34e6",
   "outputs": [
    {
     "name": "stdout",
     "output_type": "stream",
     "text": [
      "Template (ID: 108) is ready to use.\n"
     ]
    }
   ],
   "execution_count": 6
  },
  {
   "metadata": {},
   "cell_type": "markdown",
   "source": [
    "### テンプレートの確認\n",
    "取得したテンプレートを確認"
   ],
   "id": "49112938152abb23"
  },
  {
   "metadata": {
    "ExecuteTime": {
     "end_time": "2024-12-06T03:45:24.506476Z",
     "start_time": "2024-12-06T03:45:24.503737Z"
    }
   },
   "cell_type": "code",
   "source": [
    "try:    \n",
    "    template_dict = template.to_dict()\n",
    "    template_html = \"<h2>Template Information</h2>\"\n",
    "    template_html += \"<ul>\"\n",
    "    for key, value in template_dict.items():\n",
    "        template_html += f\"<li><strong>{key}:</strong> {value}</li>\"\n",
    "    template_html += \"</ul>\"\n",
    "    # display(HTML(template_html))\n",
    "except ApiException as e:\n",
    "    print(f\"Exception when calling TemplatesApi->get_experiment_template: {e}\\n\")\n",
    "    if e.body:\n",
    "           print(f\"Error details: {e.body}\\n\")\n",
    "except Exception as e:\n",
    "    print(f\"An error occurred: {e}\\n\")"
   ],
   "id": "7bdebe5c4cb32705",
   "outputs": [],
   "execution_count": 7
  },
  {
   "metadata": {},
   "cell_type": "markdown",
   "source": [
    "### 実験ノートの準備\n",
    "テンプレートから「(Template title)_(Sample ID)」をタイトルにする実験ノートを作成してeLabFTWに登録する。</br>\n",
    "正常に登録が完了したら、その結果を出力する。"
   ],
   "id": "7ec2651454a4c2f1"
  },
  {
   "metadata": {
    "ExecuteTime": {
     "end_time": "2024-12-06T03:46:15.665877Z",
     "start_time": "2024-12-06T03:46:15.028135Z"
    }
   },
   "cell_type": "code",
   "source": [
    "try:\n",
    "    # テンプレートIDがデータフレームに存在するか確認\n",
    "    if template_id not in templates_df['ID'].values:\n",
    "        display(templates_df)\n",
    "        print(template_id, \" \", type(template_id))\n",
    "        raise ValueError(f\"Template ID {template_id} not found in templates_df\")\n",
    "\n",
    "    # テンプレートIDに対応するタイトルを取得\n",
    "    template_title = templates_df.loc[templates_df['ID'] == template_id, 'Title'].values[0]\n",
    "    \n",
    "    # 新しいタイトルを作成\n",
    "    new_title = f\"{template_title}_{sample_id}\"\n",
    "    \n",
    "    # 実験ノートの内容を設定\n",
    "    experiment_body = {\n",
    "        \"category_id\": str(template_id)  # カテゴリIDを指定\n",
    "    }\n",
    "   \n",
    "    # Create an experiment\n",
    "    api_response = experimentsApi.post_experiment(body=experiment_body)    \n",
    "    \n",
    "    if api_response is None: print(\"Experiment has created successfully.\")\n",
    "    else: print(api_response)\n",
    "\n",
    "    # 新しい実験ノートのIDを取得するため、最新の実験ノートを取得\n",
    "    experiments_list = sorted(experimentsApi.read_experiments(), key=lambda x: x._date, reverse=True)\n",
    "    new_experiment_id = experiments_list[0].id\n",
    "\n",
    "    # 実験ノートのタイトルを更新\n",
    "    update_body = {\n",
    "        \"title\": new_title\n",
    "    }\n",
    "    update_response = experimentsApi.patch_experiment(new_experiment_id, body=update_body)\n",
    "    print(\"Experiment title has updated successfully.\")\n",
    "\n",
    "except ValueError as e:\n",
    "    print(\"ValueError: %s\\n\" % e)\n",
    "except ApiException as e:\n",
    "    print(\"Exception when calling ExperimentsApi->post_experiment or patch_experiment: %s\\n\" % e)\n",
    "    if e.body:\n",
    "        print(f\"Error details: {e.body}\\n\")\n",
    "except Exception as e:\n",
    "    print(\"An error occurred: %s\\n\" % e)"
   ],
   "id": "da1a860fbc905eee",
   "outputs": [
    {
     "name": "stdout",
     "output_type": "stream",
     "text": [
      "Experiment has created successfully.\n",
      "Experiment title has updated successfully.\n"
     ]
    }
   ],
   "execution_count": 9
  },
  {
   "metadata": {},
   "cell_type": "markdown",
   "source": [
    "### 実験ノートリストの確認\n",
    "作成した全実験ノートを出力する。"
   ],
   "id": "d47bc5356b2b7a8e"
  },
  {
   "metadata": {
    "ExecuteTime": {
     "end_time": "2024-12-06T03:46:27.791458Z",
     "start_time": "2024-12-06T03:46:27.573461Z"
    }
   },
   "cell_type": "code",
   "source": [
    "# 全実験ノートの確認\n",
    "try:\n",
    "    # デフォルト設定で実験ノートを取得\n",
    "    print(\"デフォルト設定で実験ノートを取得:\")\n",
    "    experimentsList = experimentsApi.read_experiments()\n",
    "    print(f\"Number of experiments: {len(experimentsList)}\")\n",
    "    \n",
    "    # 必要なフィールドを抽出してリストに格納\n",
    "    exp_data = []\n",
    "    for experiment in experimentsList:\n",
    "        exp_dict = experiment.to_dict()\n",
    "        exp_data.append({\n",
    "            '_date': exp_dict.get('_date'),\n",
    "            'category_title': exp_dict.get('category_title'),\n",
    "            'category': exp_dict.get('category'),\n",
    "            'fullname': exp_dict.get('fullname'),\n",
    "            'id': exp_dict.get('id'),\n",
    "            'tags': exp_dict.get('tags'),\n",
    "            'tags_id': exp_dict.get('tags_id'),\n",
    "            'up_item_id': exp_dict.get('up_item_id')\n",
    "        })\n",
    "\n",
    "    # データフレームに変換\n",
    "    experiments_df = pd.DataFrame(exp_data)\n",
    "    experiments_df['_date'] = pd.to_datetime(experiments_df['_date'])   # _date列をdatetime型に変換\n",
    "    experiments_df = experiments_df.sort_values(by='_date', ascending=False)    # 作成日が新しい順にソート\n",
    "    # print(experiments_df)\n",
    "    \n",
    "except ApiException as e:\n",
    "    print(\"ExperimentsApiを呼び出す際の例外: %s\\n\" % e)"
   ],
   "id": "ca979a78e7e2b6be",
   "outputs": [
    {
     "name": "stdout",
     "output_type": "stream",
     "text": [
      "デフォルト設定で実験ノートを取得:\n",
      "Number of experiments: 22\n"
     ]
    }
   ],
   "execution_count": 10
  },
  {
   "metadata": {},
   "cell_type": "markdown",
   "source": [
    "### 最新の実験ノートを取得\n",
    "実験ノートリストから最新の実験ノートを取得する。</br>\n",
    "取得した実験ノートのIDが表示されます。"
   ],
   "id": "6c3628136043606b"
  },
  {
   "metadata": {
    "ExecuteTime": {
     "end_time": "2024-12-06T03:46:33.121301Z",
     "start_time": "2024-12-06T03:46:32.885152Z"
    }
   },
   "cell_type": "code",
   "source": [
    "try:\n",
    "    experiments_list = experimentsApi.read_experiments()\n",
    "    # print(f\"Number of experiments: {len(experiments_list)}\")\n",
    "    \n",
    "    # 最も新しい実験ノートを取得\n",
    "    if experiments_list:\n",
    "        experiments_list = sorted(experiments_list, key=lambda x: x._date, reverse=True)  # 作成日でソート\n",
    "        experiment_id = experiments_list[0].id  # 最新の実験ノートのIDを取得\n",
    "        print(f\"Latest experiment ID: {experiment_id}\")        \n",
    "    else:\n",
    "        print(\"No experiments found.\")\n",
    "        exit()\n",
    "\n",
    "except ApiException as e:\n",
    "    print(f\"Exception when calling ExperimentsApi->read_experiments: {e}\\n\")\n",
    "    exit()"
   ],
   "id": "e00d7e3178594af8",
   "outputs": [
    {
     "name": "stdout",
     "output_type": "stream",
     "text": [
      "Latest experiment ID: 2064\n"
     ]
    }
   ],
   "execution_count": 11
  },
  {
   "metadata": {},
   "cell_type": "markdown",
   "source": "## <span style='color: orange'>実験ノートの内容更新</span>",
   "id": "6a3707846713e4e5"
  },
  {
   "metadata": {},
   "cell_type": "markdown",
   "source": [
    "### ノート更新の準備</span>\n",
    "テーブルの基本スタイルを設定し、テーブルに列を追加する関数とデータから特殊文字を書き出し、テキストだけを抽出する関数を定義"
   ],
   "id": "696c5aec877431ce"
  },
  {
   "metadata": {
    "ExecuteTime": {
     "end_time": "2024-12-06T03:46:36.403592Z",
     "start_time": "2024-12-06T03:46:36.400560Z"
    }
   },
   "cell_type": "code",
   "source": [
    "# Define the template's default line color and border style.\n",
    "default_style = {\n",
    "    'border-color' : '#95a5a6',\n",
    "    'border-style' : 'solid'\n",
    "}\n",
    "\n",
    "# Add 'n_row' empty row(s) in the transferred 'table' of 'soup', \n",
    "# reflecting the row('tr_style') and cell('td_style') styles.\n",
    "def addEmptyRow(table, soup, n_row = 1, tr_style = '', td_style = ''):\n",
    "    \n",
    "    n_cell = len(table.tr.find_all('td'))\n",
    "    \n",
    "    for i in range(n_row):\n",
    "        empt_tr = soup.new_tag('tr', style = tr_style) if tr_style else soup.new_tag('tr')\n",
    "    \n",
    "        for j in range(n_cell):\n",
    "            nw_td = soup.new_tag('td', style = td_style)\n",
    "            nw_td.string = ' '\n",
    "            empt_tr.append(nw_td)\n",
    "            \n",
    "        table.append(empt_tr)\n",
    "    \n",
    "    return table\n",
    "\n",
    "# Remove special characters from the string 'str'\n",
    "# Can define more removing character(s) by adding it at 'char'.\n",
    "def removeSpChar(str, char):\n",
    "    try:\n",
    "        rv_str = re.sub(r'[-=+,#/\\?:^.@*\\\"※~ㆍ!』‘|\\(\\)\\[\\]`\\'…》\\”\\“\\’·]', '', str)\n",
    "        if char: rv_str = rv_str.lstrip(char).strip()\n",
    "        return rv_str\n",
    "    except Exception as e:\n",
    "        print(f\"An error occurred: {e}\\n\")"
   ],
   "id": "e02b20f979b79395",
   "outputs": [],
   "execution_count": 12
  },
  {
   "metadata": {},
   "cell_type": "markdown",
   "source": [
    "### <span style='color: orange'>実験ノートの内容を更新</span>\n",
    "最新の実験ノートの詳細を取得して実験ノートの内容を更新する。 <br>\n",
    "CSVのデータをtable_nameに指定されたテーブルに追加します。 <br>\n",
    "次のプロセスでテーブルにデータを追加します。 <br>\n",
    "   1. 'table_name'に該当するテーブルをノートで検索して<br>\n",
    "   2. 名前が一致するか、似たようなテーブルにCSVのデータを追加します。 <br>\n",
    "   3. テーブルにデータを追加するとき、CSVの最初の行の各カラム名に該当するテーブルのColumnに「入力値」を追加します。 <br>"
   ],
   "id": "e4d9ae9ae3956883"
  },
  {
   "metadata": {
    "ExecuteTime": {
     "end_time": "2024-12-06T03:46:43.584702Z",
     "start_time": "2024-12-06T03:46:43.081086Z"
    }
   },
   "cell_type": "code",
   "source": [
    "# 最新の実験ノートの詳細を取得\n",
    "try:\n",
    "    latest_experiment= experimentsApi.get_experiment(experiment_id)\n",
    "    exp_body = latest_experiment.body\n",
    "    exp_title = latest_experiment.title\n",
    "\n",
    "    # BeautifulSoupを使ってHTMLを解析\n",
    "    soup = BeautifulSoup(exp_body, 'html.parser')\n",
    "    \n",
    "    cnt_soup = soup.find_all(['h1','p'])\n",
    "    cnt_dict = dict()\n",
    "    for cs in cnt_soup:\n",
    "        cst = removeSpChar(cs.text, 'TS')\n",
    "        if cst:\n",
    "            cnt_dict[cst] = cs\n",
    "    \n",
    "    n_exp = len(tb_cnt)\n",
    "    \n",
    "    if table_name in cnt_dict:\n",
    "        cnt_soup = cnt_dict[table_name]\n",
    "    else:\n",
    "        candidate = get_close_matches(table_name, list(cnt_dict.keys()), 3, 0.8)\n",
    "        candidate = candidate[0] if candidate else \"None\"\n",
    "        raise ValueError(f\"Column {table_name} not found in table: candidate = {candidate}\")      \n",
    "    \n",
    "    table = cnt_soup.find_next_sibling('table')\n",
    "    \n",
    "    if table:\n",
    "        rows = table.find_all('tr')\n",
    "        \n",
    "        if len(rows) > 1:\n",
    "            items = list(map(lambda x:x.text, rows[1].find_all('td')))     # Column titles (English ver.)\n",
    "            n_items = len(items)\n",
    "\n",
    "            chk_empt_row = [all([c.get_text(strip=True) in ['', None] for c in r.find_all('td')]) for r in rows]\n",
    "            n_empt_row = np.count_nonzero(chk_empt_row)\n",
    "            n_filled_row = len(rows) - n_empt_row\n",
    "            \n",
    "            # Add empty row(s) if it's insufficient\n",
    "            if n_empt_row < n_exp:\n",
    "                tr_style = rows[2]['style'] if rows[2].attrs.get('style') else ''\n",
    "                td_style = rows[2].td['style']\n",
    "                \n",
    "                addEmptyRow(table, soup, n_exp - n_empt_row, tr_style, td_style)\n",
    "                rows = table.find_all('tr')\n",
    "    \n",
    "            # Reflect the contents\n",
    "            ncol = len(tb_ttl)\n",
    "            ttl_idxs = []\n",
    "            for ec_title in tb_ttl:\n",
    "                if ec_title in items:\n",
    "                    ttl_idxs.append(items.index(ec_title))\n",
    "                else:\n",
    "                    candidate = get_close_matches(ec_title, items, 3, 0.8)\n",
    "                    candidate = candidate[0] if candidate else \"None\"\n",
    "                    raise ValueError(f\"Column {ec_title} not found in table: candidate = {candidate}\")\n",
    "                \n",
    "            for i, ec in enumerate(tb_cnt):               \n",
    "                cells = rows[i + n_filled_row].find_all('td')      # Experiment values\n",
    "                for j in range(ncol):\n",
    "                    cells[ttl_idxs[j]].string = ec[j]\n",
    "        else:\n",
    "            raise ValueError(f'Insufficient rows: size {len(rows)}')\n",
    "\n",
    "    # 更新されたHTMLを文字列に戻す\n",
    "    rev_exp_body = str(soup)\n",
    "\n",
    "    # 新しい内容をもとに既存の内容を更新\n",
    "    update_body = {\n",
    "        \"body\": rev_exp_body,  # 更新されたHTML\n",
    "    }\n",
    "\n",
    "    # 実験ノートの内容を更新\n",
    "    update_response = experimentsApi.patch_experiment(experiment_id, body=update_body)\n",
    "    print(\"Experiment has updated successfully.\")\n",
    "except ApiException as e:\n",
    "    print(f\"Exception when calling ExperimentsApi->patch_experiment: {e}\\n\")\n",
    "    if e.body:\n",
    "        print(f\"Error details: {e.body}\\n\")\n",
    "except Exception as e:\n",
    "    print(f\"An error occurred: {e}\\n\")"
   ],
   "id": "3f9cd228db66eb1c",
   "outputs": [
    {
     "name": "stdout",
     "output_type": "stream",
     "text": [
      "Experiment has updated successfully.\n"
     ]
    }
   ],
   "execution_count": 13
  },
  {
   "metadata": {},
   "cell_type": "markdown",
   "source": [
    "お疲れ様でした。<br>\n",
    "これまでCSVファイルから一つのテーブルにデータを追加するサンプルコードを見てきました。<br>\n",
    "[<ins>以降のステップでは</ins>、](https://github.com/naist-eln/eln/blob/main/API/eLabFTW_API_external_data_insert.ipynb)XLSXファイルから多数のテーブルにデータを追加するサンプルコードを扱います。"
   ],
   "id": "310877a91a66fd37"
  },
  {
   "metadata": {},
   "cell_type": "markdown",
   "source": [
    "Copyright (C) 2025 Data Science Center, Nara Institute of Science and Technology\n",
    "\n",
    "This program is free software: you can redistribute it and/or modify\n",
    "it under the terms of the GNU Affero General Public License as\n",
    "published by the Free Software Foundation, either version 3 of the\n",
    "License, or (at your option) any later version.\n",
    "\n",
    "This program is distributed in the hope that it will be useful,\n",
    "but WITHOUT ANY WARRANTY; without even the implied warranty of\n",
    "MERCHANTABILITY or FITNESS FOR A PARTICULAR PURPOSE. See the\n",
    "GNU Affero General Public License for more details.\n",
    "\n",
    "You should have received a copy of the GNU Affero General Public License\n",
    "along with this program. If not, see <http://www.gnu.org/licenses/>."
   ],
   "id": "2ee70912c8324bde"
  }
 ],
 "metadata": {
  "kernelspec": {
   "display_name": "Python 3",
   "language": "python",
   "name": "python3"
  },
  "language_info": {
   "codemirror_mode": {
    "name": "ipython",
    "version": 2
   },
   "file_extension": ".py",
   "mimetype": "text/x-python",
   "name": "python",
   "nbconvert_exporter": "python",
   "pygments_lexer": "ipython2",
   "version": "2.7.6"
  }
 },
 "nbformat": 4,
 "nbformat_minor": 5
}
