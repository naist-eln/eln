{
 "cells": [
  {
   "metadata": {},
   "cell_type": "markdown",
   "source": "# Tutorial #1: APIを用いたeLabFTWのノート作成",
   "id": "f9a9d1740f87cfc5"
  },
  {
   "metadata": {},
   "cell_type": "markdown",
   "source": "<b>Note:</b> ご不明な点がございましたら、lee.jemyung@naist.ac.jp にご連絡ください",
   "id": "fcb789f562c75b32"
  },
  {
   "metadata": {},
   "cell_type": "markdown",
   "source": [
    "## **Step 6:** APIを使ってテーブルのプロパティを修正してみましょう\n",
    "#### テーブルのフォント、線色、線状、特定のセル強調などの修正を行うサンプルコード"
   ],
   "id": "405655a72266b4a7"
  },
  {
   "metadata": {},
   "cell_type": "markdown",
   "source": "#### Note: _Step 6_ で<span style='color: orange'>新しくお知らせする部分のタイトル</span>はオレンジ色で表示し、その他の部分では _Step 1~5_ と同じ内容となります。",
   "id": "b547408f6bb56e63"
  },
  {
   "metadata": {},
   "cell_type": "markdown",
   "source": [
    "## 前準備\n",
    "###　「.env」ファイルの作成\n",
    "「.env」ファイルの作成に関しては[**<ins>こちら</ins>**](https://github.com/naist-eln/eln/blob/main/API/eLabFTW_API_env.ipynb)をご覧ください。<br>\n",
    "「.env」ファイルがすでに用意されている場合は、そのまま次に進んでください。"
   ],
   "id": "c5a9d65fd61590c0"
  },
  {
   "metadata": {},
   "cell_type": "markdown",
   "source": [
    "### <span style='color: orange'>更新実験ノートとテーブルの指定</span>\n",
    "修正したい実験ノートのIDをここであらかじめ指定するか、下記の「実験ノートリストの確認」からセクションでIDリストを確認して指定する。</br>\n",
    "指定しない場合、最新の実験ノートを更新することになる。"
   ],
   "id": "7492cd3089d56776"
  },
  {
   "metadata": {
    "ExecuteTime": {
     "end_time": "2025-02-13T07:22:55.200293Z",
     "start_time": "2025-02-13T07:22:55.197224Z"
    }
   },
   "cell_type": "code",
   "source": [
    "# experiment IDを指定します。\n",
    "# 指定せずに空欄にしておく場合、最新のノートを更新することになります。\n",
    "\n",
    "experiment_id = '1923'   \n",
    "\n",
    "# フォント、文字サイズ、文字色、文字位置、テーブル線の太さ、線色、線の形、背景色などを指定します。\n",
    "#「properties」で「all」に該当する値はすべてのテーブルに適用され、特定の項目が指定されていると、該当項目のテーブルだけが修正されます。\n",
    "\n",
    "properties = {\n",
    "    'all':{\n",
    "        'font-family' : 'Helvetica',\n",
    "        'font-size' : '14px',\n",
    "        'color' : 'grey',   # font color\n",
    "        'text-align' : 'left',\n",
    "        'border-width' : '1px',\n",
    "        'border-style' : 'solid',\n",
    "        'border-color' : 'blue',\n",
    "        'background-color' : 'white'\n",
    "    },\n",
    "    '目的組成':{\n",
    "        'font-family' : 'Impact',\n",
    "        'font-size' : '20px',\n",
    "        'color' : 'white',   # font color\n",
    "        'text-align' : 'center',\n",
    "        'border-width' : '3px',\n",
    "        'border-style' : 'dashed',\n",
    "        'border-color' : 'green',\n",
    "        'background-color' : 'orange' \n",
    "    }\n",
    "}\n"
   ],
   "id": "2712578fd52328b6",
   "outputs": [],
   "execution_count": 45
  },
  {
   "metadata": {},
   "cell_type": "markdown",
   "source": [
    "### コード駆動準備\n",
    "ライブラリ、パッケージ、モジュールの呼び出しと設定"
   ],
   "id": "cb00fdfca0a5233c"
  },
  {
   "metadata": {
    "ExecuteTime": {
     "end_time": "2025-02-13T06:47:36.848171Z",
     "start_time": "2025-02-13T06:47:36.836083Z"
    }
   },
   "cell_type": "code",
   "source": [
    "import os\n",
    "import re\n",
    "import elabapi_python\n",
    "from elabapi_python.rest import ApiException\n",
    "import json\n",
    "from requests.exceptions import HTTPError\n",
    "import numpy as np\n",
    "import pandas as pd\n",
    "from pandas import json_normalize\n",
    "from openpyxl import load_workbook as lw\n",
    "from IPython.display import display, HTML\n",
    "from bs4 import BeautifulSoup\n",
    "import requests\n",
    "import codecs\n",
    "import smbclient\n",
    "from smb.SMBConnection import SMBConnection\n",
    "from dotenv import load_dotenv\n",
    "import warnings\n",
    "from urllib3.exceptions import InsecureRequestWarning\n",
    "from difflib import get_close_matches\n",
    "\n",
    "# APIクライアントの設定\n",
    "load_dotenv()\n",
    "configuration = elabapi_python.Configuration()\n",
    "configuration.host = os.environ[\"HOST_URL\"]\n",
    "configuration.api_key['Authorization'] = os.environ[\"API_KEY\"]\n",
    "configuration.debug = False\n",
    "configuration.verify_ssl = False\n",
    "\n",
    "# SSL警告を無効化\n",
    "warnings.simplefilter('ignore', InsecureRequestWarning)\n",
    "\n",
    "# 各種のインスタンスを作成\n",
    "api_client = elabapi_python.ApiClient(configuration)\n",
    "api_client.set_default_header(header_name = 'Authorization', header_value = configuration.api_key['Authorization'] )\n",
    "experimentsApi = elabapi_python.ExperimentsApi(api_client)\n",
    "templatesApi = elabapi_python.ExperimentsTemplatesApi(api_client)\n",
    "uploadsApi = elabapi_python.UploadsApi(api_client)\n",
    "itemsApi = elabapi_python.ItemsApi(api_client)"
   ],
   "id": "d29f5c5857923483",
   "outputs": [],
   "execution_count": 14
  },
  {
   "metadata": {},
   "cell_type": "markdown",
   "source": [
    "### 実験ノートリストの確認\n",
    "作成した全実験ノートを出力する。"
   ],
   "id": "6fa6f6235cf0f61c"
  },
  {
   "metadata": {
    "ExecuteTime": {
     "end_time": "2025-02-13T06:47:38.909438Z",
     "start_time": "2025-02-13T06:47:38.497837Z"
    }
   },
   "cell_type": "code",
   "source": [
    "# 全実験ノートの確認\n",
    "try:\n",
    "    # デフォルト設定で実験ノートを取得\n",
    "    print(\"デフォルト設定で実験ノートを取得:\")\n",
    "    experimentsList = experimentsApi.read_experiments()\n",
    "    print(f\"Number of experiments: {len(experimentsList)}\")\n",
    "    \n",
    "    # 必要なフィールドを抽出してリストに格納\n",
    "    exp_data = []\n",
    "    for experiment in experimentsList:\n",
    "        exp_dict = experiment.to_dict()\n",
    "        exp_data.append({\n",
    "            '_date': exp_dict.get('_date'),\n",
    "            'category_title': exp_dict.get('category_title'),\n",
    "            'category': exp_dict.get('category'),\n",
    "            'fullname': exp_dict.get('fullname'),\n",
    "            'id': exp_dict.get('id'),\n",
    "            'tags': exp_dict.get('tags'),\n",
    "            'tags_id': exp_dict.get('tags_id'),\n",
    "            'up_item_id': exp_dict.get('up_item_id')\n",
    "        })\n",
    "\n",
    "    # データフレームに変換\n",
    "    experiments_df = pd.DataFrame(exp_data)\n",
    "    experiments_df['_date'] = pd.to_datetime(experiments_df['_date'])   # _date列をdatetime型に変換\n",
    "    experiments_df = experiments_df.sort_values(by='_date', ascending=False)    # 作成日が新しい順にソート\n",
    "    print(experiments_df)\n",
    "    \n",
    "except ApiException as e:\n",
    "    print(\"ExperimentsApiを呼び出す際の例外: %s\\n\" % e)"
   ],
   "id": "3c833484a8930b0b",
   "outputs": [
    {
     "name": "stdout",
     "output_type": "stream",
     "text": [
      "デフォルト設定で実験ノートを取得:\n",
      "Number of experiments: 24\n",
      "        _date category_title category        fullname    id  \\\n",
      "1  2025-01-27           None     None     jemyung lee  2321   \n",
      "3  2024-12-19           None     None  Shogo Takasuka  2153   \n",
      "4  2024-12-19           None     None  Shogo Takasuka  2152   \n",
      "5  2024-12-19           None     None  Shogo Takasuka  2151   \n",
      "6  2024-12-19           None     None  Shogo Takasuka  2150   \n",
      "7  2024-12-19           None     None  Shogo Takasuka  2149   \n",
      "2  2024-12-06           None     None     jemyung lee  2062   \n",
      "0  2024-11-18           None     None     jemyung lee  1987   \n",
      "8  2024-11-18           None     None  Shogo Takasuka  1992   \n",
      "9  2024-11-11           None     None     jemyung lee  1923   \n",
      "10 2024-11-08           None     None  Shogo Takasuka  1910   \n",
      "11 2024-11-08           None     None  Shogo Takasuka  1907   \n",
      "12 2024-11-07           None     None     jemyung lee  1906   \n",
      "13 2024-11-06           None     None     jemyung lee  1900   \n",
      "14 2024-10-28           None     None     jemyung lee  1848   \n",
      "15 2024-10-28           None     None     jemyung lee  1855   \n",
      "16 2024-10-28           None     None     jemyung lee  1847   \n",
      "17 2024-10-28           None     None     jemyung lee  1845   \n",
      "18 2024-10-28           None     None     jemyung lee  1843   \n",
      "19 2024-10-28           None     None     jemyung lee  1842   \n",
      "20 2024-10-22           None     None     jemyung lee  1796   \n",
      "21 2024-10-22           None     None     jemyung lee  1795   \n",
      "22 2024-10-22           None     None     jemyung lee  1794   \n",
      "23 2024-10-22           None     None     jemyung lee  1793   \n",
      "\n",
      "                                       tags          tags_id  up_item_id  \n",
      "1                             Catalyst|Zinc          256,257         NaN  \n",
      "3                                      None             None         NaN  \n",
      "4                                      None             None         NaN  \n",
      "5                                      None             None         NaN  \n",
      "6                                      None             None         NaN  \n",
      "7                                      None             None         NaN  \n",
      "2                     Photocatalyst|Process          254,255      2062.0  \n",
      "0   API|ipynb|Sample codes|Jupyter notebook  318,392,393,394         NaN  \n",
      "8                             Catalyst|Zinc          256,257         NaN  \n",
      "9                             Catalyst|Zinc          256,257      1923.0  \n",
      "10                            Catalyst|Zinc          256,257         NaN  \n",
      "11                    Photocatalyst|Process          254,255         NaN  \n",
      "12                            Catalyst|Zinc          256,257         NaN  \n",
      "13                            Catalyst|Zinc          256,257         NaN  \n",
      "14                            Catalyst|Zinc          256,257         NaN  \n",
      "15                            Catalyst|Zinc          256,257         NaN  \n",
      "16                            Catalyst|Zinc          256,257         NaN  \n",
      "17                            Catalyst|Zinc          256,257         NaN  \n",
      "18                            Catalyst|Zinc          256,257         NaN  \n",
      "19                            Catalyst|Zinc          256,257         NaN  \n",
      "20                            Catalyst|Zinc          256,257         NaN  \n",
      "21                            Catalyst|Zinc          256,257         NaN  \n",
      "22                            Catalyst|Zinc          256,257         NaN  \n",
      "23                            Catalyst|Zinc          256,257         NaN  \n"
     ]
    }
   ],
   "execution_count": 15
  },
  {
   "metadata": {},
   "cell_type": "markdown",
   "source": [
    "### <span style='color: orange'>実験ノートIDの指定</span>\n",
    "実験ノートリストを確認し、修正するノートのIDを入力する。 </br>\n",
    "最新のノートを修正する場合は空欄にしておいてもよい。"
   ],
   "id": "399b98adb1fd391c"
  },
  {
   "metadata": {
    "ExecuteTime": {
     "end_time": "2025-02-13T05:24:32.650912Z",
     "start_time": "2025-02-13T05:24:32.648293Z"
    }
   },
   "cell_type": "code",
   "source": [
    "if not experiment_id:\n",
    "    experiment_id = ''    # <- ここに修正するノートのIDを記入。 空欄にしておくと最新のノートを修正することになる"
   ],
   "id": "ae43a8166c7e1aaa",
   "outputs": [],
   "execution_count": 4
  },
  {
   "metadata": {},
   "cell_type": "markdown",
   "source": [
    "### <span style='color: orange'>実験ノートを取得</span>\n",
    "実験ノートリストから実験ノートを取得する。</br>\n",
    "指定されたノートIDがある場合は当該ノート情報を取得し、指定されたIDがない場合は最新ノートの情報を取得する。</br>\n",
    "取得した実験ノートのIDが表示されます。"
   ],
   "id": "e5f6d1e651469acb"
  },
  {
   "metadata": {
    "ExecuteTime": {
     "end_time": "2025-02-13T06:47:41.931849Z",
     "start_time": "2025-02-13T06:47:41.650448Z"
    }
   },
   "cell_type": "code",
   "source": [
    "try:\n",
    "    experiments_list = experimentsApi.read_experiments()\n",
    "    print(f\"Number of experiments: {len(experiments_list)}\")\n",
    "    \n",
    "    if experiment_id:\n",
    "        exp_lst = [x.id for x in experiments_list]\n",
    "        if not experiments_list:\n",
    "            raise ValueError(f\"There's no experiment, number of experiments: {len(experiments_list)}\")\n",
    "        elif experiment_id in exp_lst:\n",
    "            print(f\"Selected experiment ID: {experiment_id}\")\n",
    "        else:\n",
    "            raise ValueError(f\"{experiment_id} does not exist in the experiments list\")\n",
    "    else:\n",
    "        # 最も新しい実験ノートを取得\n",
    "        if experiments_list:\n",
    "            experiments_list = sorted(experiments_list, key=lambda x: x._date, reverse=True)  # 作成日でソート\n",
    "            experiment_id = experiments_list[0].id  # 最新の実験ノートのIDを取得\n",
    "            print(f\"Latest experiment ID: {experiment_id}\")        \n",
    "        else:\n",
    "            print(\"No experiments found.\")\n",
    "            exit()\n",
    "\n",
    "except ApiException as e:\n",
    "    print(f\"Exception when calling ExperimentsApi->read_experiments: {e}\\n\")\n",
    "    exit()"
   ],
   "id": "81d57c719954132f",
   "outputs": [
    {
     "name": "stdout",
     "output_type": "stream",
     "text": [
      "Number of experiments: 24\n",
      "Latest experiment ID: 2321\n"
     ]
    }
   ],
   "execution_count": 16
  },
  {
   "metadata": {},
   "cell_type": "markdown",
   "source": [
    "### <span style='color: orange'>ノート更新の準備</span>\n",
    "テキストだけを抽出する関数を定義"
   ],
   "id": "58576fd1b524bcd5"
  },
  {
   "metadata": {
    "ExecuteTime": {
     "end_time": "2025-02-13T06:47:44.483116Z",
     "start_time": "2025-02-13T06:47:44.478451Z"
    }
   },
   "cell_type": "code",
   "source": [
    "# Remove special characters from the string 'str'\n",
    "# Can define more removing character(s) by adding it at 'char'.\n",
    "def removeSpChar(str, char):\n",
    "    try:\n",
    "        rv_str = re.sub(r'[-=+,#/\\?:^.@*\\\"※~ㆍ!』‘|\\(\\)\\[\\]`\\'…》\\”\\“\\’·]', '', str)\n",
    "        if char: rv_str = rv_str.lstrip(char).strip()\n",
    "        return rv_str\n",
    "    except Exception as e:\n",
    "        print(f\"An error occurred: {e}\\n\")"
   ],
   "id": "4f1052ac03156f52",
   "outputs": [],
   "execution_count": 17
  },
  {
   "metadata": {},
   "cell_type": "markdown",
   "source": [
    "### <span style='color: orange'>テーブルプロパティの修正</span>\n",
    "テーブルからデータが記録されている 3 番目の列からの形式を修正します。<br>\n",
    "フォント、文字サイズ、文字色、文字位置、テーブル線の太さ、線色、線の形、背景色などを更新するコードです。<br>\n",
    "「properties」で「all」に該当する値はすべてのテーブルに適用され、特定の項目が指定されていると、該当項目のテーブルだけが修正されます。"
   ],
   "id": "5adb279fbb0f6e41"
  },
  {
   "metadata": {
    "ExecuteTime": {
     "end_time": "2025-02-13T07:23:00.187277Z",
     "start_time": "2025-02-13T07:22:59.724955Z"
    }
   },
   "cell_type": "code",
   "source": [
    "try:\n",
    "    experiment = experimentsApi.get_experiment(experiment_id)\n",
    "    exp_body = experiment.body\n",
    "    exp_title = experiment.title\n",
    "\n",
    "    # BeautifulSoupを使ってHTMLを解析\n",
    "    soup = BeautifulSoup(exp_body, 'html.parser')\n",
    "    \n",
    "    cnt_soup = soup.find_all(['h1','p'])\n",
    "    cnt_dict = dict()\n",
    "    for cs in cnt_soup:\n",
    "        cst = removeSpChar(cs.text, 'TS')\n",
    "        if cst:\n",
    "            cnt_dict[cst] = cs\n",
    "\n",
    "    tbl_list = list(properties.keys())\n",
    "\n",
    "    for tbk in tbl_list:\n",
    "        default_style = ''\n",
    "        for stl_tag in properties[tbk].keys():\n",
    "            default_style += f\"{stl_tag}: {properties[tbk][stl_tag]}; \"\n",
    "        \n",
    "        if tbk.lower() == 'all' and tbk not in cnt_dict:\n",
    "            for tables in soup.find_all('table'):\n",
    "                for rows in tables.find_all('tr')[2:]:\n",
    "                    for tag in rows.find_all():\n",
    "                        tag['style'] = default_style\n",
    "        elif tbk in cnt_dict:\n",
    "            cnt_soup = cnt_dict[tbk]\n",
    "            table = cnt_soup.find_next_sibling('table')\n",
    "\n",
    "            if table:\n",
    "                for rows in table.find_all('tr')[2:]:\n",
    "                    for tag in rows.find_all():\n",
    "                        tag['style'] = default_style\n",
    "            else:\n",
    "                raise ValueError(f\"Section '{tbk}' has no table.\")\n",
    "        else:\n",
    "            raise ValueError(f\"Section '{tbk}' does not exist.\")\n",
    "\n",
    "    # 更新されたHTMLを文字列に戻す\n",
    "    rev_exp_body = str(soup)\n",
    "\n",
    "    # 新しい内容をもとに既存の内容を更新\n",
    "    update_body = {\n",
    "        \"body\": rev_exp_body,  # 更新されたHTML\n",
    "    }\n",
    "\n",
    "    # 実験ノートの内容を更新\n",
    "    update_response = experimentsApi.patch_experiment(experiment_id, body=update_body)\n",
    "    print(f\"Experiment {experiment_id} updated successfully.\")\n",
    "    # print(update_response)\n",
    "except ApiException as e:\n",
    "    print(f\"Exception when calling ExperimentsApi->patch_experiment: {e}\\n\")\n",
    "    if e.body:\n",
    "        print(f\"Error details: {e.body}\\n\")\n",
    "except Exception as e:\n",
    "    print(f\"An error occurred: {e}\\n\")"
   ],
   "id": "8b4c58e8e84593f0",
   "outputs": [
    {
     "name": "stdout",
     "output_type": "stream",
     "text": [
      "Experiment 1923 updated successfully.\n"
     ]
    }
   ],
   "execution_count": 46
  },
  {
   "metadata": {},
   "cell_type": "markdown",
   "source": [
    "お疲れ様でした。<br>\n",
    "更新した電子ラボ ノートを確認してみましょう。"
   ],
   "id": "359ca0cb94432129"
  }
 ],
 "metadata": {
  "kernelspec": {
   "display_name": "Python 3",
   "language": "python",
   "name": "python3"
  },
  "language_info": {
   "codemirror_mode": {
    "name": "ipython",
    "version": 2
   },
   "file_extension": ".py",
   "mimetype": "text/x-python",
   "name": "python",
   "nbconvert_exporter": "python",
   "pygments_lexer": "ipython2",
   "version": "2.7.6"
  }
 },
 "nbformat": 4,
 "nbformat_minor": 5
}
