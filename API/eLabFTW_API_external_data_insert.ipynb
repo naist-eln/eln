{
 "cells": [
  {
   "metadata": {},
   "cell_type": "markdown",
   "source": "# Tutorial #1: APIを用いたeLabFTWのノート作成",
   "id": "559e73eb2b315c01"
  },
  {
   "metadata": {},
   "cell_type": "markdown",
   "source": "<b>Note:</b> ご不明な点がございましたら、lee.jemyung@naist.ac.jp にご連絡ください",
   "id": "b323005be74f6aa"
  },
  {
   "metadata": {},
   "cell_type": "markdown",
   "source": [
    "## **Step 3:** APIを使ってオフラインで作成したデータを入れてみましょう\n",
    "#### CSV、TSV、XLSXの形式で作成した実験データを読み込み、テンプレートを検索、データの保存位置探索後、適切なテーブルにデータを入力するサンプルコード"
   ],
   "id": "6b24088baa60f922"
  },
  {
   "metadata": {},
   "cell_type": "markdown",
   "source": "#### Note: _Step 3_ で<span style='color: orange'>新しくお知らせする部分のタイトル</span>はオレンジ色で表示し、その他の部分では _Step 1_ 又は _Step 2_ と同じ内容となります。",
   "id": "66771dfdb9606063"
  },
  {
   "metadata": {},
   "cell_type": "markdown",
   "source": [
    "## 前準備\n",
    "###　「.env」ファイルの作成\n",
    "「.env」ファイルの作成に関しては[こちら](https://github.com/jemyung/enl/blob/main/API/eLabFTW_API_env.ipynb)をご覧ください。<br>\n",
    "「.env」ファイルがすでに用意されている場合は、そのまま次に進んでください。"
   ],
   "id": "31f2806d6b73af0d"
  }
 ],
 "metadata": {
  "kernelspec": {
   "display_name": "Python 3",
   "language": "python",
   "name": "python3"
  },
  "language_info": {
   "codemirror_mode": {
    "name": "ipython",
    "version": 2
   },
   "file_extension": ".py",
   "mimetype": "text/x-python",
   "name": "python",
   "nbconvert_exporter": "python",
   "pygments_lexer": "ipython2",
   "version": "2.7.6"
  }
 },
 "nbformat": 4,
 "nbformat_minor": 5
}
