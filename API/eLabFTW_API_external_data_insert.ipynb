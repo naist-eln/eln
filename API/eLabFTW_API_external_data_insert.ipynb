{
 "cells": [
  {
   "metadata": {},
   "cell_type": "markdown",
   "source": [
    "SPDX-FileCopyrightText: © 2025 Data Science Center, Nara Institute of Science and Technology \\<naist_eln@ml.naist.ac.jp\\> </br>\n",
    "SPDX-License-Identifier: AGPL-3.0"
   ],
   "id": "aadb28fd2ad73bfc"
  },
  {
   "metadata": {},
   "cell_type": "markdown",
   "source": "# Tutorial #1: APIを用いたeLabFTWのノート作成",
   "id": "559e73eb2b315c01"
  },
  {
   "metadata": {},
   "cell_type": "markdown",
   "source": "<b>Note:</b> ご不明な点がございましたら、lee.jemyung@naist.ac.jp にご連絡ください",
   "id": "b323005be74f6aa"
  },
  {
   "metadata": {},
   "cell_type": "markdown",
   "source": [
    "## **Step 4:** APIを使ってオフラインで作成したデータを入れてみましょう（2/2）\n",
    "#### XLSX形式で作成した実験データを読み込み、XLSXファイル内に指定されたテンプレートを検索、データ保存位置を探索した後、マッチングされるテーブルとカラムにデータを入力するサンプルコード"
   ],
   "id": "6b24088baa60f922"
  },
  {
   "metadata": {},
   "cell_type": "markdown",
   "source": "#### Note: _Step 4_ で<span style='color: orange'>新しくお知らせする部分のタイトル</span>はオレンジ色で表示し、その他の部分では _Step 1_, _2_, 又は _3_ と同じ内容となります。",
   "id": "66771dfdb9606063"
  },
  {
   "metadata": {},
   "cell_type": "markdown",
   "source": [
    "## 前準備\n",
    "###　「.env」ファイルの作成\n",
    "「.env」ファイルの作成に関しては[**<ins>こちら</ins>**](https://github.com/jemyung/enl/blob/main/API/eLabFTW_API_env.ipynb)をご覧ください。<br>\n",
    "「.env」ファイルがすでに用意されている場合は、そのまま次に進んでください。"
   ],
   "id": "31f2806d6b73af0d"
  },
  {
   "metadata": {},
   "cell_type": "markdown",
   "source": "## <span style='color: orange'>実験資料の取得</span>",
   "id": "84ac8de0ee57a957"
  },
  {
   "metadata": {},
   "cell_type": "markdown",
   "source": [
    "### <span style='color: orange'>入力ファイルの設定</span>\n",
    "実験ノートのデータが保存されたXLSXファイルを指定し、ファイル内に保存されたテンプレート情報を獲得する項目名を指定<br>\n",
    "（[例：XLSX入力ファイルサンプルはこちら](https://github.com/naist-eln/eln/blob/main/API/test_file/exp_sample.xlsx)）<br>\n",
    "* 「file_path」: データが保存されたXLSXファイルのフォルダーパス<br>\n",
    "* 「exp_file」: データが保存されたXLSXファイル名<br>\n",
    "* 「exp_items」: XLSXファイルに保存された実験ノートに関する情報（テンプレートタイトル、サンプルID 等）の項目名、各項目は：<br>\n",
    "    + 「template_id」: テンプレートのID (省略可)<br>\n",
    "    + 「template_title」: テンプレートのタイトル名<br>\n",
    "    + 「sample_id」: サンプルID<br>\n",
    "    + 「upload_file」: アップロードするファイルのパス(省略可)<br>"
   ],
   "id": "f89b0d148b0a5406"
  },
  {
   "metadata": {
    "ExecuteTime": {
     "end_time": "2024-12-09T08:00:49.263961Z",
     "start_time": "2024-12-09T08:00:49.260163Z"
    }
   },
   "cell_type": "code",
   "source": [
    "file_path = './test_file/'\n",
    "exp_file = 'exp_sample.xlsx'\n",
    "exp_items = ['template_id', 'template_title', 'sample_id', 'upload_file']\n",
    "\n",
    "exp_itm_dic = dict(zip(exp_items, ['' for i in range(len(exp_items))]))"
   ],
   "id": "3e7d08e1bb3cbc0c",
   "outputs": [],
   "execution_count": 1
  },
  {
   "metadata": {},
   "cell_type": "markdown",
   "source": [
    "### コード駆動準備\n",
    "ライブラリ、パッケージ、モジュールの呼び出しと設定"
   ],
   "id": "b590b3f6f18dda26"
  },
  {
   "metadata": {
    "ExecuteTime": {
     "end_time": "2024-12-09T08:00:51.190245Z",
     "start_time": "2024-12-09T08:00:51.000623Z"
    }
   },
   "cell_type": "code",
   "source": [
    "import os\n",
    "import re\n",
    "import elabapi_python\n",
    "from elabapi_python.rest import ApiException\n",
    "import json\n",
    "from requests.exceptions import HTTPError\n",
    "import numpy as np\n",
    "import pandas as pd\n",
    "from pandas import json_normalize\n",
    "from openpyxl import load_workbook as lw\n",
    "from IPython.display import display, HTML\n",
    "from bs4 import BeautifulSoup\n",
    "import requests\n",
    "import codecs\n",
    "import smbclient\n",
    "from smb.SMBConnection import SMBConnection\n",
    "from dotenv import load_dotenv\n",
    "import warnings\n",
    "from urllib3.exceptions import InsecureRequestWarning\n",
    "from difflib import get_close_matches\n",
    "\n",
    "# APIクライアントの設定\n",
    "load_dotenv()\n",
    "configuration = elabapi_python.Configuration()\n",
    "configuration.host = os.environ[\"HOST_URL\"]\n",
    "configuration.api_key['Authorization'] = os.environ[\"API_KEY\"]\n",
    "configuration.debug = False\n",
    "configuration.verify_ssl = False\n",
    "\n",
    "# SSL警告を無効化\n",
    "warnings.simplefilter('ignore', InsecureRequestWarning)\n",
    "\n",
    "# 各種のインスタンスを作成\n",
    "api_client = elabapi_python.ApiClient(configuration)\n",
    "api_client.set_default_header(header_name = 'Authorization', header_value = configuration.api_key['Authorization'] )\n",
    "experimentsApi = elabapi_python.ExperimentsApi(api_client)\n",
    "templatesApi = elabapi_python.ExperimentsTemplatesApi(api_client)\n",
    "uploadsApi = elabapi_python.UploadsApi(api_client)\n",
    "itemsApi = elabapi_python.ItemsApi(api_client)"
   ],
   "id": "2ff0feb28ddc4ae2",
   "outputs": [],
   "execution_count": 2
  },
  {
   "metadata": {},
   "cell_type": "markdown",
   "source": [
    "### <span style='color: orange'>使用する関数の定義</span>\n",
    "テーブル名称とテンプレート内部の文字を処理するための関数を実装"
   ],
   "id": "31db6e77b0fe16e2"
  },
  {
   "metadata": {
    "ExecuteTime": {
     "end_time": "2024-12-09T08:00:52.714733Z",
     "start_time": "2024-12-09T08:00:52.711856Z"
    }
   },
   "cell_type": "code",
   "source": [
    "# Remove special characters from the string 'str'\n",
    "# Can define more removing character(s) by adding it at 'char'.\n",
    "def rmsc(str, char = ''):\n",
    "    try:\n",
    "        if str:\n",
    "            rv_str = re.sub(r'[-=+,#/\\?:^.@*\\\"※~ㆍ!』‘|\\(\\)\\[\\]`\\'…》\\”\\“\\’·]', '', str)\n",
    "            if char: rv_str = rv_str.lstrip(char)\n",
    "            return rv_str.strip()\n",
    "        else:\n",
    "            return str\n",
    "    except Exception as e:\n",
    "        print(f\"An error occurred: {e}\\n\")"
   ],
   "id": "69718a7ce0bf78d9",
   "outputs": [],
   "execution_count": 3
  },
  {
   "metadata": {},
   "cell_type": "markdown",
   "source": [
    "### <span style='color: orange'>XLSXファイルデータ取得</span>\n",
    "XLSXファイルのデータを取得し、Pandasのデータフレーム（dataframe）形式で保存"
   ],
   "id": "6931e1cfcf73d589"
  },
  {
   "metadata": {
    "ExecuteTime": {
     "end_time": "2024-12-09T08:00:54.677849Z",
     "start_time": "2024-12-09T08:00:54.665491Z"
    }
   },
   "cell_type": "code",
   "source": [
    "df = pd.read_excel(file_path + exp_file, engine = 'openpyxl')\n",
    "\n",
    "# 以下のコマンドを有効にすると、呼び込んだXLSXファイルの内容が確認可能\n",
    "# display(df)"
   ],
   "id": "19b9d1550d09de32",
   "outputs": [],
   "execution_count": 4
  },
  {
   "metadata": {},
   "cell_type": "markdown",
   "source": [
    "### <span style='color: orange'>取得したデータの分類</span>\n",
    "データフレームで保存したデータからテンプレート情報、テーブル情報を分類し、コード内部の変数に項目別に保存"
   ],
   "id": "4db0d6e9e8a789cf"
  },
  {
   "metadata": {
    "ExecuteTime": {
     "end_time": "2024-12-09T08:00:56.340821Z",
     "start_time": "2024-12-09T08:00:56.330519Z"
    }
   },
   "cell_type": "code",
   "source": [
    "wb = lw(file_path + exp_file, data_only=True)\n",
    "ws = wb.active\n",
    "\n",
    "exp_contents = dict()\n",
    "table_name = ''\n",
    "col_ttls = []\n",
    "chk_tbl, chk_ttl, chk_cnt = False, False, False\n",
    "\n",
    "try:\n",
    "    for row in ws.rows:\n",
    "        for cell in row:\n",
    "            if cell.value and isinstance(cell.value, str) and cell.value.startswith('#'):\n",
    "                cell.value = ''\n",
    "    \n",
    "    for row in ws.rows:\n",
    "        n_cell = len(row)\n",
    "        r_val = ''\n",
    "        if row[0].value:\n",
    "            chk_sgl = not any([row[i].value for i in range(1, n_cell)])\n",
    "            if isinstance(row[0].value, str): r_val = rmsc(row[0].value)\n",
    "            if r_val in exp_items:\n",
    "                if row[1].value:\n",
    "                    exp_itm_dic[r_val] = str(row[1].value).strip()\n",
    "            elif chk_sgl and row[0].border.right.style is None:\n",
    "                table_name = r_val\n",
    "                exp_contents[table_name] = []\n",
    "                chk_tbl = True\n",
    "            elif not chk_sgl or row[0].border.right.style is not None:\n",
    "                if chk_tbl:\n",
    "                    if chk_ttl:\n",
    "                        col_vals = [str(cell.value) for cell in row]\n",
    "                        # col_vals = [cell.value for cell in row]\n",
    "                        \n",
    "                        while col_vals and col_vals[-1] is None: del col_vals[-1] \n",
    "                        exp_contents[table_name].append(dict(zip(col_ttls, col_vals)))\n",
    "                        chk_cnt = True\n",
    "                    else:\n",
    "                        col_ttls = [cell.value for cell in row]\n",
    "                        while col_ttls and col_ttls[-1] is None: del col_ttls[-1] \n",
    "                        if col_ttls: chk_ttl = True\n",
    "                else:\n",
    "                    raise ValueError(\"Table title is not defined for the contents: \", [cell.value for cell in row])\n",
    "        elif not any([row[i].value for i in range(n_cell)]):\n",
    "            if chk_tbl:\n",
    "                if chk_ttl and not chk_cnt:\n",
    "                    raise ValueError(f\"Table content is not defined for the table: {table_name}\")\n",
    "                elif not chk_ttl:\n",
    "                    raise ValueError(f\"Table column titles are not defined for the table: {table_name}\")\n",
    "                \n",
    "            table_name = ''\n",
    "            col_ttls = []\n",
    "            chk_tbl, chk_ttl, chk_cnt = False, False, False\n",
    "            \n",
    "except Exception as e:\n",
    "    print(f\"An error occurred: {e}\\n\")        "
   ],
   "id": "9b10f27c8f132dc6",
   "outputs": [],
   "execution_count": 5
  },
  {
   "metadata": {},
   "cell_type": "markdown",
   "source": [
    "### <span style='color: orange'>テンプレート情報の抽出</span>\n",
    "分類されたデータからテンプレート関連情報を別途保存"
   ],
   "id": "46509c4bbd298c64"
  },
  {
   "metadata": {
    "ExecuteTime": {
     "end_time": "2024-12-09T08:00:58.611585Z",
     "start_time": "2024-12-09T08:00:58.609306Z"
    }
   },
   "cell_type": "code",
   "source": [
    "template_id = exp_itm_dic['template_id']\n",
    "template_title = exp_itm_dic['template_title']\n",
    "sample_id = exp_itm_dic['sample_id']\n",
    "upload_file = file_path + exp_itm_dic['upload_file']"
   ],
   "id": "9f7ac5493dcd435b",
   "outputs": [],
   "execution_count": 6
  },
  {
   "metadata": {},
   "cell_type": "markdown",
   "source": "## 実験ノート作成",
   "id": "b3a6c6ba1f213ea4"
  },
  {
   "metadata": {},
   "cell_type": "markdown",
   "source": [
    "### テンプレートリストの確認\n",
    "現在登録されているテンプレートのリストを表示します。テンプレートのIDとTitleを確認することができます。"
   ],
   "id": "aa7796a6684d1f72"
  },
  {
   "metadata": {
    "ExecuteTime": {
     "end_time": "2024-12-09T08:01:00.436862Z",
     "start_time": "2024-12-09T08:01:00.214944Z"
    }
   },
   "cell_type": "code",
   "source": [
    "# テンプレートIDとタイトルを取得\n",
    "templates_data = []\n",
    "errors = []\n",
    "\n",
    "try:\n",
    "    templates_list = templatesApi.read_experiments_templates()\n",
    "    \n",
    "    for template in templates_list:\n",
    "        try:\n",
    "            templates_data.append({\n",
    "                'ID': template.id,\n",
    "                'Title': template.title\n",
    "            })\n",
    "        except AttributeError as e:\n",
    "            errors.append(f\"AttributeError for template ID {template.id}: {e}\")\n",
    "        except Exception as e:\n",
    "            errors.append(f\"An error occurred for template ID {template.id}: {e}\")\n",
    "\n",
    "except ApiException as e:\n",
    "    print(f\"Exception when calling TemplatesApi->read_experiments_templates: {e}\\n\")\n",
    "    if e.body:\n",
    "        print(f\"Error details: {e.body}\\n\")\n",
    "\n",
    "# データフレームに変換して表示\n",
    "templates_df = pd.DataFrame(templates_data)\n",
    "templates_df[['ID']] = templates_df[['ID']].astype(str)\n",
    "display(templates_df)\n",
    "\n",
    "# エラーの内容を表示\n",
    "if errors:\n",
    "    print(\"Errors encountered:\")\n",
    "    for error in errors:\n",
    "        print(error)"
   ],
   "id": "feb43763f820183b",
   "outputs": [
    {
     "data": {
      "text/plain": [
       "    ID      Title\n",
       "0  109  Test_No.1\n",
       "1  108  Test_No.2"
      ],
      "text/html": [
       "<div>\n",
       "<style scoped>\n",
       "    .dataframe tbody tr th:only-of-type {\n",
       "        vertical-align: middle;\n",
       "    }\n",
       "\n",
       "    .dataframe tbody tr th {\n",
       "        vertical-align: top;\n",
       "    }\n",
       "\n",
       "    .dataframe thead th {\n",
       "        text-align: right;\n",
       "    }\n",
       "</style>\n",
       "<table border=\"1\" class=\"dataframe\">\n",
       "  <thead>\n",
       "    <tr style=\"text-align: right;\">\n",
       "      <th></th>\n",
       "      <th>ID</th>\n",
       "      <th>Title</th>\n",
       "    </tr>\n",
       "  </thead>\n",
       "  <tbody>\n",
       "    <tr>\n",
       "      <th>0</th>\n",
       "      <td>109</td>\n",
       "      <td>Test_No.1</td>\n",
       "    </tr>\n",
       "    <tr>\n",
       "      <th>1</th>\n",
       "      <td>108</td>\n",
       "      <td>Test_No.2</td>\n",
       "    </tr>\n",
       "  </tbody>\n",
       "</table>\n",
       "</div>"
      ]
     },
     "metadata": {},
     "output_type": "display_data"
    }
   ],
   "execution_count": 7
  },
  {
   "metadata": {},
   "cell_type": "markdown",
   "source": [
    "### テンプレートの割り当て\n",
    "指定したIDまたはTitleからテンプレートを割り当て、IDとTitleを確定</br>\n",
    "コード実行時に割り当てられたIDとTitleが表示される。</br>\n",
    "<span style='color: red'>**<ins>NOTE</ins>**</span></br>\n",
    "入力されたタイトルと一致するテンプレートがない場合、最も近いタイトルのテンプレートとして自動的に指定する。 </br>\n",
    "案内メッセージが表示されますので、ご確認後、異常がない場合はお進みください。"
   ],
   "id": "3e452c6de99a3f89"
  },
  {
   "metadata": {
    "ExecuteTime": {
     "end_time": "2024-12-09T08:01:02.536993Z",
     "start_time": "2024-12-09T08:01:02.532094Z"
    }
   },
   "cell_type": "code",
   "source": [
    "detected_title = \"\"\n",
    "try:\n",
    "    if template_id and (templates_df['ID'] == template_id).any():\n",
    "        detected_title = templates_df.loc[templates_df['ID'] == template_id, 'Title'].values[0]\n",
    "        if not template_title:\n",
    "            template_title = detected_title\n",
    "    elif template_title:\n",
    "        if (templates_df['Title'] == template_title).any():\n",
    "            detected_title = template_title\n",
    "        else:\n",
    "            detected_title = get_close_matches(template_title, templates_df['Title'] , 3, 0.7)\n",
    "            if detected_title:\n",
    "                detected_title = detected_title[0]\n",
    "            else:\n",
    "                raise ValueError(f\"Template title is not detected.\")\n",
    "        template_id = templates_df.loc[templates_df['Title'] == detected_title, 'ID'].values[0]\n",
    "    else:\n",
    "        raise ValueError(\"Please enter a valid template ID or Title, above.\")\n",
    "    \n",
    "    print(f\"Template title is assigned to \\\"{detected_title}\\\"\" + (\".\" if detected_title == template_title else f\", altered from \\\"{template_title}\\\".\"))\n",
    "\n",
    "    if template_id in templates_df['ID'].values:\n",
    "        print(f\"Template ID: {template_id}\")\n",
    "    else:\n",
    "        raise ValueError(f\"Template ID {template_id} not found in templates_df\")\n",
    "except ValueError as e:\n",
    "    print(\"ValueError: %s\\n\" % e)"
   ],
   "id": "3c821b950a984297",
   "outputs": [
    {
     "name": "stdout",
     "output_type": "stream",
     "text": [
      "Template title is assigned to \"Test_No.2\", altered from \"Test_No2\".\n",
      "Template ID: 108\n"
     ]
    }
   ],
   "execution_count": 8
  },
  {
   "metadata": {},
   "cell_type": "markdown",
   "source": [
    "### テンプレートの取得\n",
    "割り当てられたIDのテンプレートを取得"
   ],
   "id": "c9fa77a1aef8b669"
  },
  {
   "metadata": {
    "ExecuteTime": {
     "end_time": "2024-12-09T08:01:04.628066Z",
     "start_time": "2024-12-09T08:01:04.463626Z"
    }
   },
   "cell_type": "code",
   "source": [
    "# Prepare the body for creating an experiment\n",
    "template = None\n",
    "experiment_body = {\n",
    "    \"category_id\": template_id,  # カテゴリIDを指定\n",
    "}\n",
    "\n",
    "try:\n",
    "    if template_id in templates_df['ID'].values:\n",
    "        template = templatesApi.get_experiment_template(template_id)\n",
    "        print(f\"Template (ID: {template_id}) is ready to use.\")\n",
    "    else:\n",
    "        raise ValueError(f\"Template ID {template_id} not found in templates dataframe.\")\n",
    "except ValueError as e:\n",
    "    print(\"ValueError: %s\\n\" % e)"
   ],
   "id": "c72fd690c4ea34e6",
   "outputs": [
    {
     "name": "stdout",
     "output_type": "stream",
     "text": [
      "Template (ID: 108) is ready to use.\n"
     ]
    }
   ],
   "execution_count": 9
  },
  {
   "metadata": {},
   "cell_type": "markdown",
   "source": [
    "### テンプレートの確認\n",
    "取得したテンプレートを確認"
   ],
   "id": "80ac4de5587fe0a9"
  },
  {
   "metadata": {
    "ExecuteTime": {
     "end_time": "2024-12-09T08:01:06.446045Z",
     "start_time": "2024-12-09T08:01:06.443132Z"
    }
   },
   "cell_type": "code",
   "source": [
    "try:    \n",
    "    template_dict = template.to_dict()\n",
    "    template_html = \"<h2>Template Information</h2>\"\n",
    "    template_html += \"<ul>\"\n",
    "    for key, value in template_dict.items():\n",
    "        template_html += f\"<li><strong>{key}:</strong> {value}</li>\"\n",
    "    template_html += \"</ul>\"\n",
    "    # display(HTML(template_html))\n",
    "except ApiException as e:\n",
    "    print(f\"Exception when calling TemplatesApi->get_experiment_template: {e}\\n\")\n",
    "    if e.body:\n",
    "           print(f\"Error details: {e.body}\\n\")\n",
    "except Exception as e:\n",
    "    print(f\"An error occurred: {e}\\n\")"
   ],
   "id": "7bdebe5c4cb32705",
   "outputs": [],
   "execution_count": 10
  },
  {
   "metadata": {},
   "cell_type": "markdown",
   "source": [
    "### 実験ノートの準備\n",
    "テンプレートから「(Template title)_(Sample ID)」をタイトルにする実験ノートを作成してeLabFTWに登録する。</br>\n",
    "正常に登録が完了したら、その結果を出力する。"
   ],
   "id": "9d7f34b53cef4e9f"
  },
  {
   "metadata": {
    "ExecuteTime": {
     "end_time": "2024-12-09T08:01:09.129610Z",
     "start_time": "2024-12-09T08:01:08.506832Z"
    }
   },
   "cell_type": "code",
   "source": [
    "try:\n",
    "    # テンプレートIDがデータフレームに存在するか確認\n",
    "    if template_id not in templates_df['ID'].values:\n",
    "        display(templates_df)\n",
    "        print(template_id, \" \", type(template_id))\n",
    "        raise ValueError(f\"Template ID {template_id} not found in templates_df\")\n",
    "\n",
    "    # テンプレートIDに対応するタイトルを取得\n",
    "    template_title = templates_df.loc[templates_df['ID'] == template_id, 'Title'].values[0]\n",
    "    \n",
    "    # 新しいタイトルを作成\n",
    "    new_title = f\"{template_title}_{sample_id}\"\n",
    "    \n",
    "    # 実験ノートの内容を設定\n",
    "    experiment_body = {\n",
    "        \"category_id\": str(template_id)  # カテゴリIDを指定\n",
    "    }\n",
    "   \n",
    "    # Create an experiment\n",
    "    api_response = experimentsApi.post_experiment(body=experiment_body)    \n",
    "    print(\"Experiment created successfully: \")\n",
    "    if api_response is None: print(f\"{api_response} issue.\")\n",
    "    else: print(api_response)\n",
    "\n",
    "    # 新しい実験ノートのIDを取得するため、最新の実験ノートを取得\n",
    "    experiments_list = sorted(experimentsApi.read_experiments(), key=lambda x: x._date, reverse=True)\n",
    "    new_experiment_id = experiments_list[0].id\n",
    "\n",
    "    # 実験ノートのタイトルを更新\n",
    "    update_body = {\n",
    "        \"title\": new_title\n",
    "    }\n",
    "    update_response = experimentsApi.patch_experiment(new_experiment_id, body=update_body)\n",
    "    print(\"Experiment title updated successfully:\")\n",
    "    # print(update_response)\n",
    "\n",
    "except ValueError as e:\n",
    "    print(\"ValueError: %s\\n\" % e)\n",
    "except ApiException as e:\n",
    "    print(\"Exception when calling ExperimentsApi->post_experiment or patch_experiment: %s\\n\" % e)\n",
    "    if e.body:\n",
    "        print(f\"Error details: {e.body}\\n\")\n",
    "except Exception as e:\n",
    "    print(\"An error occurred: %s\\n\" % e)"
   ],
   "id": "da1a860fbc905eee",
   "outputs": [
    {
     "name": "stdout",
     "output_type": "stream",
     "text": [
      "Experiment created successfully: \n",
      "None issue.\n",
      "Experiment title updated successfully:\n"
     ]
    }
   ],
   "execution_count": 11
  },
  {
   "metadata": {},
   "cell_type": "markdown",
   "source": [
    "### 実験ノートリストの確認\n",
    "作成した全実験ノートを出力する。"
   ],
   "id": "b0c9ac1c9063be48"
  },
  {
   "metadata": {
    "ExecuteTime": {
     "end_time": "2024-12-09T08:01:11.370737Z",
     "start_time": "2024-12-09T08:01:11.029398Z"
    }
   },
   "cell_type": "code",
   "source": [
    "# 全実験ノートの確認\n",
    "try:\n",
    "    # デフォルト設定で実験ノートを取得\n",
    "    print(\"デフォルト設定で実験ノートを取得:\")\n",
    "    experimentsList = experimentsApi.read_experiments()\n",
    "    print(f\"Number of experiments: {len(experimentsList)}\")\n",
    "    \n",
    "    # 必要なフィールドを抽出してリストに格納\n",
    "    exp_data = []\n",
    "    for experiment in experimentsList:\n",
    "        exp_dict = experiment.to_dict()\n",
    "        exp_data.append({\n",
    "            '_date': exp_dict.get('_date'),\n",
    "            'category_title': exp_dict.get('category_title'),\n",
    "            'category': exp_dict.get('category'),\n",
    "            'fullname': exp_dict.get('fullname'),\n",
    "            'id': exp_dict.get('id'),\n",
    "            'tags': exp_dict.get('tags'),\n",
    "            'tags_id': exp_dict.get('tags_id'),\n",
    "            'up_item_id': exp_dict.get('up_item_id')\n",
    "        })\n",
    "\n",
    "    # データフレームに変換\n",
    "    experiments_df = pd.DataFrame(exp_data)\n",
    "    experiments_df['_date'] = pd.to_datetime(experiments_df['_date'])   # _date列をdatetime型に変換\n",
    "    experiments_df = experiments_df.sort_values(by='_date', ascending=False)    # 作成日が新しい順にソート\n",
    "    # print(experiments_df)\n",
    "    \n",
    "except ApiException as e:\n",
    "    print(\"ExperimentsApiを呼び出す際の例外: %s\\n\" % e)"
   ],
   "id": "ca979a78e7e2b6be",
   "outputs": [
    {
     "name": "stdout",
     "output_type": "stream",
     "text": [
      "デフォルト設定で実験ノートを取得:\n",
      "Number of experiments: 24\n"
     ]
    }
   ],
   "execution_count": 12
  },
  {
   "metadata": {},
   "cell_type": "markdown",
   "source": [
    "### 最新の実験ノートを取得\n",
    "実験ノートリストから最新の実験ノートを取得する。</br>\n",
    "取得した実験ノートのIDが表示されます。"
   ],
   "id": "d261c86dd596d7bd"
  },
  {
   "metadata": {
    "ExecuteTime": {
     "end_time": "2024-12-09T08:01:13.478214Z",
     "start_time": "2024-12-09T08:01:13.222624Z"
    }
   },
   "cell_type": "code",
   "source": [
    "try:\n",
    "    experiments_list = experimentsApi.read_experiments()\n",
    "    # print(f\"Number of experiments: {len(experiments_list)}\")\n",
    "    \n",
    "    # 最も新しい実験ノートを取得\n",
    "    if experiments_list:\n",
    "        experiments_list = sorted(experiments_list, key=lambda x: x._date, reverse=True)  # 作成日でソート\n",
    "        experiment_id = experiments_list[0].id  # 最新の実験ノートのIDを取得\n",
    "        print(f\"Latest experiment ID: {experiment_id}\")        \n",
    "    else:\n",
    "        print(\"No experiments found.\")\n",
    "        exit()\n",
    "\n",
    "except ApiException as e:\n",
    "    print(f\"Exception when calling ExperimentsApi->read_experiments: {e}\\n\")\n",
    "    exit()"
   ],
   "id": "e00d7e3178594af8",
   "outputs": [
    {
     "name": "stdout",
     "output_type": "stream",
     "text": [
      "Latest experiment ID: 2071\n"
     ]
    }
   ],
   "execution_count": 13
  },
  {
   "metadata": {},
   "cell_type": "markdown",
   "source": "## <span style='color: orange'>実験ノートの内容更新</span>",
   "id": "bc642c5225f850f0"
  },
  {
   "metadata": {},
   "cell_type": "markdown",
   "source": [
    "### ノート更新の準備\n",
    "テーブルの基本スタイルを設定し、テーブルに列を追加する関数とデータから特殊文字を書き出し、テキストだけを抽出する関数を定義"
   ],
   "id": "120d3e2211a2286a"
  },
  {
   "metadata": {
    "ExecuteTime": {
     "end_time": "2024-12-09T08:01:15.340234Z",
     "start_time": "2024-12-09T08:01:15.337196Z"
    }
   },
   "cell_type": "code",
   "source": [
    "# Define the template's default line color and border style.\n",
    "default_style = {\n",
    "    'border-color' : '#95a5a6',\n",
    "    'border-style' : 'solid'\n",
    "}\n",
    "\n",
    "# Add 'n_row' empty row(s) in the transferred 'table' of 'soup', \n",
    "# reflecting the row('tr_style') and cell('td_style') styles.\n",
    "def addEmptyRow(table, soup, n_row = 1, tr_style = '', td_style = ''):\n",
    "    \n",
    "    n_cell = len(table.tr.find_all('td'))\n",
    "    \n",
    "    for i in range(n_row):\n",
    "        empt_tr = soup.new_tag('tr', style = tr_style) if tr_style else soup.new_tag('tr')\n",
    "    \n",
    "        for j in range(n_cell):\n",
    "            nw_td = soup.new_tag('td', style = td_style)\n",
    "            nw_td.string = ' '\n",
    "            empt_tr.append(nw_td)\n",
    "            \n",
    "        table.append(empt_tr)\n",
    "    \n",
    "    return table\n",
    "\n",
    "# Remove special characters from the string 'str'\n",
    "# Can define more removing character(s) by adding it at 'char'.\n",
    "def removeSpChar(str, char):\n",
    "    try:\n",
    "        rv_str = re.sub(r'[-=+,#/\\?:^.@*\\\"※~ㆍ!』‘|\\(\\)\\[\\]`\\'…》\\”\\“\\’·]', '', str)\n",
    "        if char: rv_str = rv_str.lstrip(char).strip()\n",
    "        return rv_str\n",
    "    except Exception as e:\n",
    "        print(f\"An error occurred: {e}\\n\")"
   ],
   "id": "e02b20f979b79395",
   "outputs": [],
   "execution_count": 14
  },
  {
   "metadata": {},
   "cell_type": "markdown",
   "source": [
    "### 実験ノートの内容を更新\n",
    "最新の実験ノートの詳細を取得して実験ノートの内容を更新する。<br>\n",
    "'exp_contents' のデータをノートの各テーブルに追加します。<br>\n",
    "次のようなプロセスでテーブルにデータを追加します。<br>\n",
    "   1. 'exp_contents' dictionaryの'テーブル名'に該当するテーブルをノートで検索して、<br>\n",
    "   2. 名前が一致するか似たようなテーブルに各データを追加します。<br>\n",
    "   3. テーブルにデータを追加するとき、「exp_contents」内に定義された「タイトル」に該当するテーブルのColumnに「入力値」を追加します。<br>\n",
    "    参考：「exp_contents」は「テーブル名」: [（「タイトル」:「入力値」）] のDictionaryになっています"
   ],
   "id": "f5f9c6db3984a2c"
  },
  {
   "metadata": {
    "ExecuteTime": {
     "end_time": "2024-12-09T08:01:17.836079Z",
     "start_time": "2024-12-09T08:01:17.466460Z"
    }
   },
   "cell_type": "code",
   "source": [
    "# 最新の実験ノートの詳細を取得\n",
    "try:\n",
    "    latest_experiment= experimentsApi.get_experiment(experiment_id)\n",
    "    exp_body = latest_experiment.body\n",
    "    exp_title = latest_experiment.title\n",
    "\n",
    "    # BeautifulSoupを使ってHTMLを解析\n",
    "    soup = BeautifulSoup(exp_body, 'html.parser')\n",
    "    \n",
    "    cnt_soup = soup.find_all(['h1','p'])\n",
    "    cnt_dict = dict()\n",
    "    for cs in cnt_soup:\n",
    "        cst = removeSpChar(cs.text, 'TS')\n",
    "        if cst:\n",
    "            cnt_dict[cst] = cs\n",
    "\n",
    "    for es in list(exp_contents.keys()):\n",
    "        ec_list = exp_contents[es]\n",
    "        n_exp = len(ec_list)\n",
    "        \n",
    "        # cnt_soup = soup.find(['h1','p'], text = re.compile('(.*)'+es+'(.*)'))   # legacy code\n",
    "        cnt_soup = cnt_dict[es]        \n",
    "        table = cnt_soup.find_next_sibling('table')\n",
    "        \n",
    "        if table:\n",
    "            rows = table.find_all('tr')\n",
    "            \n",
    "            if len(rows) > 1:\n",
    "                items = list(map(lambda x:x.text, rows[1].find_all('td')))     # Column titles (English ver.)\n",
    "                n_items = len(items)\n",
    "\n",
    "                chk_empt_row = [all([c.get_text(strip=True) in ['', None] for c in r.find_all('td')]) for r in rows]\n",
    "                n_empt_row = np.count_nonzero(chk_empt_row)\n",
    "                n_filled_row = len(rows) - n_empt_row\n",
    "                \n",
    "                # Add empty row(s) if it's insufficient\n",
    "                if n_empt_row < n_exp:\n",
    "                    tr_style = rows[2]['style'] if rows[2].attrs.get('style') else ''\n",
    "                    td_style = rows[2].td['style']\n",
    "                    \n",
    "                    addEmptyRow(table, soup, n_exp - n_empt_row, tr_style, td_style)\n",
    "                    rows = table.find_all('tr')\n",
    "                \n",
    "                # Reflect the contents\n",
    "                for i, ec in enumerate(ec_list):               \n",
    "                    cells = rows[i + n_filled_row].find_all('td')      # Experiment values         \n",
    "                    for ec_title in ec.keys():\n",
    "                        if ec_title in items:\n",
    "                            cells[items.index(ec_title)].string = ec[ec_title]\n",
    "                        else:\n",
    "                            candidate = get_close_matches(ec_title, items, 3, 0.8)\n",
    "                            candidate = candidate[0] if candidate else \"None\"\n",
    "                            raise ValueError(f\"Column {ec_title} not found in table: candidate = {candidate}\")\n",
    "            else:\n",
    "                raise ValueError(f'Insufficient rows: size {len(rows)}')\n",
    "\n",
    "    # 更新されたHTMLを文字列に戻す\n",
    "    rev_exp_body = str(soup)\n",
    "\n",
    "    # 新しい内容をもとに既存の内容を更新\n",
    "    update_body = {\n",
    "        \"body\": rev_exp_body,  # 更新されたHTML\n",
    "        # \"title\": exp_title + \" - 更新しました\"  # タイトルを更新\n",
    "    }\n",
    "\n",
    "    # 実験ノートの内容を更新\n",
    "    update_response = experimentsApi.patch_experiment(experiment_id, body=update_body)\n",
    "    print(\"Experiment updated successfully:\")\n",
    "    # print(update_response)\n",
    "except ApiException as e:\n",
    "    print(f\"Exception when calling ExperimentsApi->patch_experiment: {e}\\n\")\n",
    "    if e.body:\n",
    "        print(f\"Error details: {e.body}\\n\")\n",
    "except Exception as e:\n",
    "    print(f\"An error occurred: {e}\\n\")"
   ],
   "id": "3f9cd228db66eb1c",
   "outputs": [
    {
     "name": "stdout",
     "output_type": "stream",
     "text": [
      "Experiment updated successfully:\n"
     ]
    }
   ],
   "execution_count": 15
  },
  {
   "metadata": {},
   "cell_type": "markdown",
   "source": [
    "### <span style='color: orange'>ファイルのアップロード</span>\n",
    "「upload_file」にあるファイルをノートにアップロードします。"
   ],
   "id": "4c0baf77e4cf7fba"
  },
  {
   "metadata": {
    "ExecuteTime": {
     "end_time": "2024-12-09T08:01:21.379266Z",
     "start_time": "2024-12-09T08:01:21.238207Z"
    }
   },
   "cell_type": "code",
   "source": [
    "try:\n",
    "    if upload_file:\n",
    "        uploadsApi.post_upload('experiments', experiment_id, file=upload_file, comment='Uploaded with APIv2')\n",
    "        print(f'File \\\"{upload_file}\\\" has uploaded to experiment #{experiment_id}.')\n",
    "    else:\n",
    "        print(\"No file to upload\")\n",
    "\n",
    "except ApiException as e:\n",
    "    print(\"UploadsApiを呼び出す際の例外: %s\\n\" % e)"
   ],
   "id": "252a9ccb709c7473",
   "outputs": [
    {
     "name": "stdout",
     "output_type": "stream",
     "text": [
      "File \"./test_file/xlsx_upload_test.txt\" has uploaded to experiment #2071.\n"
     ]
    }
   ],
   "execution_count": 16
  },
  {
   "metadata": {},
   "cell_type": "markdown",
   "source": [
    "お疲れ様でした。<br>\n",
    " [<ins>次のステップでは</ins>、]()保存された実験ノートをダウンロードするサンプル コードを見てみましょう。"
   ],
   "id": "42be6413780edf61"
  },
  {
   "metadata": {},
   "cell_type": "markdown",
   "source": [
    "Copyright (C) 2025 Data Science Center, Nara Institute of Science and Technology\n",
    "\n",
    "This program is free software: you can redistribute it and/or modify\n",
    "it under the terms of the GNU Affero General Public License as\n",
    "published by the Free Software Foundation, either version 3 of the\n",
    "License, or (at your option) any later version.\n",
    "\n",
    "This program is distributed in the hope that it will be useful,\n",
    "but WITHOUT ANY WARRANTY; without even the implied warranty of\n",
    "MERCHANTABILITY or FITNESS FOR A PARTICULAR PURPOSE. See the\n",
    "GNU Affero General Public License for more details.\n",
    "\n",
    "You should have received a copy of the GNU Affero General Public License\n",
    "along with this program. If not, see <http://www.gnu.org/licenses/>."
   ],
   "id": "ee50cf1a7a7adfe8"
  }
 ],
 "metadata": {
  "kernelspec": {
   "display_name": "Python 3",
   "language": "python",
   "name": "python3"
  },
  "language_info": {
   "codemirror_mode": {
    "name": "ipython",
    "version": 2
   },
   "file_extension": ".py",
   "mimetype": "text/x-python",
   "name": "python",
   "nbconvert_exporter": "python",
   "pygments_lexer": "ipython2",
   "version": "2.7.6"
  }
 },
 "nbformat": 4,
 "nbformat_minor": 5
}
