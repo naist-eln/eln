{
 "cells": [
  {
   "metadata": {},
   "cell_type": "markdown",
   "source": "# **Tutorial #1:** APIを用いたeLabFTWのノート作成",
   "id": "b61e5086b45b28ad"
  },
  {
   "metadata": {},
   "cell_type": "markdown",
   "source": "<b>Note:</b> ご不明な点がございましたら、lee.jemyung@naist.ac.jp にご連絡ください",
   "id": "cfc1299c2ca1cfbf"
  },
  {
   "metadata": {},
   "cell_type": "markdown",
   "source": "## **Step 0:**「.env」 ファイルの作成",
   "id": "8caa6446607e03e1"
  },
  {
   "metadata": {},
   "cell_type": "markdown",
   "source": [
    "実行ファイル（「\\*.py」や「\\*.ipynb」）と同じフォルダに以下の内容を入力して「.env」ファイルを保存する。\n",
    "<br><span style=\"background-color:red\"><b>注</b></span>： \"<b>.env</b>\" 4 文字がすべてのファイル名で保存します。\n",
    "<br><br>\n",
    "「.env」ファイルの内容<br>\n",
    "    \n",
    "> <span style=\"font-size:80%\"> HOST_URL='https\\://makimono.elab.one/api/v2'   <span style=\"color: #808080\">　<- この部分は変えません</span></span><br>\n",
    "> <span style=\"font-size:80%\"> API_KEY='' <span style=\"color: #808080\">　<-「''」の中にコピーしたAPI-KEYを入れてください</span></span>\n",
    "\n",
    "<span style=\"background-color:blue\"><b>参考</b></span>：API-KEYを取る方は「Settings」→「API KEYS」→「Create new key」→「Generate an API Key」からです。\n"
   ],
   "id": "c436281df73998f7"
  }
 ],
 "metadata": {
  "kernelspec": {
   "display_name": "Python 3",
   "language": "python",
   "name": "python3"
  },
  "language_info": {
   "codemirror_mode": {
    "name": "ipython",
    "version": 2
   },
   "file_extension": ".py",
   "mimetype": "text/x-python",
   "name": "python",
   "nbconvert_exporter": "python",
   "pygments_lexer": "ipython2",
   "version": "2.7.6"
  }
 },
 "nbformat": 4,
 "nbformat_minor": 5
}
