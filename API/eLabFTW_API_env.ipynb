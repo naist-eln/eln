{
 "cells": [
  {
   "metadata": {},
   "cell_type": "markdown",
   "source": [
    "SPDX-FileCopyrightText: © 2025 Data Science Center, Nara Institute of Science and Technology \\<naist_eln@ml.naist.ac.jp\\> </br>\n",
    "SPDX-License-Identifier: AGPL-3.0"
   ],
   "id": "33d00d501ee1486b"
  },
  {
   "metadata": {},
   "cell_type": "markdown",
   "source": "# **Tutorial #1:** APIを用いたeLabFTWのノート作成",
   "id": "b61e5086b45b28ad"
  },
  {
   "metadata": {},
   "cell_type": "markdown",
   "source": "<b>Note:</b> ご不明な点がございましたら、naist_eln@ml.naist.ac.jp にご連絡ください",
   "id": "cfc1299c2ca1cfbf"
  },
  {
   "metadata": {},
   "cell_type": "markdown",
   "source": "## **Step 0:**「.env」 ファイルの作成",
   "id": "8caa6446607e03e1"
  },
  {
   "metadata": {},
   "cell_type": "markdown",
   "source": [
    "実行ファイル（「\\*.py」や「\\*.ipynb」）と同じフォルダに以下の内容を入力して「.env」ファイルを保存する。\n",
    "<br><span style=\"background-color:red; color:white\"><b>注</b></span>： \"<b>.env</b>\" というファイル名で保存してください。\n",
    "<br><br>\n",
    "「.env」ファイルの内容<br>\n",
    "    \n",
    "> <span style=\"font-size:80%\"> HOST_URL='https\\://XXXX.XXXX.XXX/api/v2'   <span style=\"color: #808080\">　<- 「XXXX.XXXX.XXX」をeLabFTWのサーバーアドレスに変えてください。</span></span><br>\n",
    "> <span style=\"font-size:80%\"> API_KEY='' <span style=\"color: #808080\">　<-「''」の中にコピーしたAPI-KEYをペーストしてください</span></span>\n",
    "\n",
    "<span style=\"background-color:blue; color:white\"><b>参考</b></span>：API-KEYは「Settings」→「API KEYS」→「Create new key」→「Generate an API Key」から取得できます。\n"
   ],
   "id": "c436281df73998f7"
  },
  {
   "metadata": {},
   "cell_type": "markdown",
   "source": [
    "Copyright (C) 2025 Data Science Center, Nara Institute of Science and Technology\n",
    "\n",
    "This program is free software: you can redistribute it and/or modify\n",
    "it under the terms of the GNU Affero General Public License as\n",
    "published by the Free Software Foundation, either version 3 of the\n",
    "License, or (at your option) any later version.\n",
    "\n",
    "This program is distributed in the hope that it will be useful,\n",
    "but WITHOUT ANY WARRANTY; without even the implied warranty of\n",
    "MERCHANTABILITY or FITNESS FOR A PARTICULAR PURPOSE. See the\n",
    "GNU Affero General Public License for more details.\n",
    "\n",
    "You should have received a copy of the GNU Affero General Public License\n",
    "along with this program. If not, see <http://www.gnu.org/licenses/>."
   ],
   "id": "ac742f1aa39e6847"
  }
 ],
 "metadata": {
  "kernelspec": {
   "display_name": "Python 3",
   "language": "python",
   "name": "python3"
  },
  "language_info": {
   "codemirror_mode": {
    "name": "ipython",
    "version": 2
   },
   "file_extension": ".py",
   "mimetype": "text/x-python",
   "name": "python",
   "nbconvert_exporter": "python",
   "pygments_lexer": "ipython2",
   "version": "2.7.6"
  }
 },
 "nbformat": 4,
 "nbformat_minor": 5
}
