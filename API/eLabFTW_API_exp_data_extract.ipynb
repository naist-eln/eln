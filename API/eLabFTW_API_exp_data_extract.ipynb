{
 "cells": [
  {
   "metadata": {},
   "cell_type": "markdown",
   "source": "# Tutorial #1: APIを用いたeLabFTWのノート作成",
   "id": "9cfa6d04c179049d"
  },
  {
   "metadata": {},
   "cell_type": "markdown",
   "source": "<b>Note:</b> ご不明な点がございましたら、lee.jemyung@naist.ac.jp にご連絡ください",
   "id": "253a6a9c784b96f5"
  },
  {
   "metadata": {},
   "cell_type": "markdown",
   "source": [
    "## **Step 5:** APIを使って保存された実験ノートをダウンロードしよう\n",
    "#### 記録された実験ノートをPDF、ELN、JSON形式のファイルにダウンロードするサンプルコード"
   ],
   "id": "84ec9f53995ee632"
  },
  {
   "metadata": {},
   "cell_type": "markdown",
   "source": "#### Note: _Step 5_ で<span style='color: orange'>新しくお知らせする部分のタイトル</span>はオレンジ色で表示し、その他の部分では _Step 1~4_ と同じ内容となります。",
   "id": "13b27d072d226375"
  },
  {
   "metadata": {},
   "cell_type": "markdown",
   "source": [
    "## 前準備\n",
    "###　「.env」ファイルの作成\n",
    "「.env」ファイルの作成に関しては[**<ins>こちら</ins>**](https://github.com/naist-eln/eln/blob/main/API/eLabFTW_API_env.ipynb)をご覧ください。<br>\n",
    "「.env」ファイルがすでに用意されている場合は、そのまま次に進んでください。"
   ],
   "id": "760fc26995b2f8c"
  },
  {
   "metadata": {},
   "cell_type": "markdown",
   "source": [
    "### <span style='color: orange'>ダウンロードフォルダの指定</span>\n",
    "実験ノートをダウンロードするフォルダを指定<br>"
   ],
   "id": "d67f167574a62188"
  },
  {
   "metadata": {
    "ExecuteTime": {
     "end_time": "2024-12-10T05:26:15.688542Z",
     "start_time": "2024-12-10T05:26:15.684780Z"
    }
   },
   "cell_type": "code",
   "source": [
    "# 指定されたフォルダが存在しない場合は、以降のコードを使用して自動的にフォルダを作成\n",
    "\n",
    "file_path = './test_file/downloads/'"
   ],
   "id": "61b4bc00d0f2f604",
   "outputs": [],
   "execution_count": 6
  },
  {
   "metadata": {},
   "cell_type": "markdown",
   "source": [
    "### コード駆動準備\n",
    "ライブラリ、パッケージ、モジュールの呼び出しと設定"
   ],
   "id": "b4ba6bee5fd18c1b"
  },
  {
   "metadata": {
    "ExecuteTime": {
     "end_time": "2024-12-10T04:56:17.476643Z",
     "start_time": "2024-12-10T04:56:16.879493Z"
    }
   },
   "cell_type": "code",
   "source": [
    "import os\n",
    "import re\n",
    "import csv\n",
    "import datetime\n",
    "import elabapi_python\n",
    "from elabapi_python.rest import ApiException\n",
    "import pandas as pd\n",
    "from dotenv import load_dotenv\n",
    "import warnings\n",
    "from urllib3.exceptions import InsecureRequestWarning\n",
    "\n",
    "# APIクライアントの設定\n",
    "load_dotenv()\n",
    "configuration = elabapi_python.Configuration()\n",
    "configuration.host = os.environ[\"HOST_URL\"]\n",
    "configuration.api_key['Authorization'] = os.environ[\"API_KEY\"]\n",
    "configuration.debug = False\n",
    "configuration.verify_ssl = False\n",
    "\n",
    "# SSL警告を無効化\n",
    "warnings.simplefilter('ignore', InsecureRequestWarning)\n",
    "\n",
    "# 各種のインスタンスを作成\n",
    "api_client = elabapi_python.ApiClient(configuration)\n",
    "api_client.set_default_header(header_name = 'Authorization', header_value = configuration.api_key['Authorization'] )\n",
    "experimentsApi = elabapi_python.ExperimentsApi(api_client)\n",
    "templatesApi = elabapi_python.ExperimentsTemplatesApi(api_client)\n",
    "uploadsApi = elabapi_python.UploadsApi(api_client)\n",
    "itemsApi = elabapi_python.ItemsApi(api_client)"
   ],
   "id": "6711c32637df914c",
   "outputs": [],
   "execution_count": 1
  },
  {
   "metadata": {},
   "cell_type": "markdown",
   "source": "## 実験ノートデータ取得",
   "id": "2b6906ad38c57ae7"
  },
  {
   "metadata": {},
   "cell_type": "markdown",
   "source": [
    "### 実験ノートリストの確認\n",
    "作成した全実験ノートを出力する。"
   ],
   "id": "eec23ba03cf0209c"
  },
  {
   "metadata": {
    "ExecuteTime": {
     "end_time": "2024-12-06T03:46:27.791458Z",
     "start_time": "2024-12-06T03:46:27.573461Z"
    }
   },
   "cell_type": "code",
   "outputs": [
    {
     "name": "stdout",
     "output_type": "stream",
     "text": [
      "デフォルト設定で実験ノートを取得:\n",
      "Number of experiments: 22\n"
     ]
    }
   ],
   "execution_count": 10,
   "source": [
    "# 全実験ノートの確認\n",
    "try:\n",
    "    # デフォルト設定で実験ノートを取得\n",
    "    print(\"デフォルト設定で実験ノートを取得:\")\n",
    "    experimentsList = experimentsApi.read_experiments()\n",
    "    print(f\"Number of experiments: {len(experimentsList)}\")\n",
    "    \n",
    "    # 必要なフィールドを抽出してリストに格納\n",
    "    exp_data = []\n",
    "    for experiment in experimentsList:\n",
    "        exp_dict = experiment.to_dict()\n",
    "        exp_data.append({\n",
    "            '_date': exp_dict.get('_date'),\n",
    "            'category_title': exp_dict.get('category_title'),\n",
    "            'category': exp_dict.get('category'),\n",
    "            'fullname': exp_dict.get('fullname'),\n",
    "            'id': exp_dict.get('id'),\n",
    "            'tags': exp_dict.get('tags'),\n",
    "            'tags_id': exp_dict.get('tags_id'),\n",
    "            'up_item_id': exp_dict.get('up_item_id')\n",
    "        })\n",
    "\n",
    "    # データフレームに変換\n",
    "    experiments_df = pd.DataFrame(exp_data)\n",
    "    experiments_df['_date'] = pd.to_datetime(experiments_df['_date'])   # _date列をdatetime型に変換\n",
    "    experiments_df = experiments_df.sort_values(by='_date', ascending=False)    # 作成日が新しい順にソート\n",
    "    # print(experiments_df)\n",
    "    \n",
    "except ApiException as e:\n",
    "    print(\"ExperimentsApiを呼び出す際の例外: %s\\n\" % e)"
   ],
   "id": "3de950b3bdde35b8"
  },
  {
   "metadata": {},
   "cell_type": "markdown",
   "source": [
    "### 最新の実験ノートを取得\n",
    "実験ノートリストから最新の実験ノートを取得する。</br>\n",
    "取得した実験ノートのIDが表示されます。"
   ],
   "id": "c8fe68428dfab9e"
  },
  {
   "metadata": {
    "ExecuteTime": {
     "end_time": "2024-12-10T04:56:23.377514Z",
     "start_time": "2024-12-10T04:56:23.024445Z"
    }
   },
   "cell_type": "code",
   "source": [
    "experiment_id = ''\n",
    "experiment_title = ''\n",
    "\n",
    "try:\n",
    "    experiments_list = experimentsApi.read_experiments()\n",
    "    \n",
    "    # 最も新しい実験ノートを取得\n",
    "    if experiments_list:\n",
    "        experiments_list = sorted(experiments_list, key=lambda x: x._date, reverse=True)  # 作成日でソート\n",
    "        experiment_id = experiments_list[0].id  # 最新の実験ノートのIDを取得\n",
    "        experiment_title = experiments_list[0].title\n",
    "        print(f\"Latest experiment ID: {experiment_id}\")        \n",
    "    else:\n",
    "        print(\"No experiments found.\")\n",
    "        exit()\n",
    "\n",
    "except ApiException as e:\n",
    "    print(f\"Exception when calling ExperimentsApi->read_experiments: {e}\\n\")\n",
    "    exit()"
   ],
   "id": "5a807004e52d9811",
   "outputs": [
    {
     "name": "stdout",
     "output_type": "stream",
     "text": [
      "Latest experiment ID: 2071\n"
     ]
    }
   ],
   "execution_count": 2
  },
  {
   "metadata": {},
   "cell_type": "markdown",
   "source": "## <span style='color: orange'>実験ノートダウンロード</span>",
   "id": "79323b37e0444be3"
  },
  {
   "metadata": {},
   "cell_type": "markdown",
   "source": [
    "### <span style='color: orange'>ダウンロードの準備</span>\n",
    "保存する実験ノートのファイル名の形式を決め、保存するフォルダーを準備します\n"
   ],
   "id": "40ec7ef6d44d0133"
  },
  {
   "metadata": {},
   "cell_type": "code",
   "outputs": [],
   "execution_count": null,
   "source": [
    "# 実験ノートファイルは、「(実験ノートID)_(実験ノートタイトル)_(現在時刻)」の形式で保存されます。\n",
    "\n",
    "cur_time = datetime.datetime.today()    # システムから現在時刻を取得\n",
    "output_file = f'{file_path}{experiment_id}_{experiment_title}_{cur_time.strftime(\"%Y-%m-%d_%H-%M-%S\")}_export'\n",
    "\n",
    "os.makedirs(file_path, exist_ok = True)     # ダウンロード フォルダーの作成"
   ],
   "id": "4175380ebfbde378"
  },
  {
   "metadata": {},
   "cell_type": "markdown",
   "source": [
    "### <span style='color: orange'>ダウンロード実行</span>\n",
    "PDF、ELN、JSON形式でそれぞれの実験ノートをダウンロードします。"
   ],
   "id": "eedf0e0756de2bf8"
  },
  {
   "metadata": {
    "ExecuteTime": {
     "end_time": "2024-12-10T05:26:20.960580Z",
     "start_time": "2024-12-10T05:26:19.467630Z"
    }
   },
   "cell_type": "code",
   "source": [
    "# PDF export\n",
    "pdf_file_name = f'{output_file}.pdf'\n",
    "with open(pdf_file_name, 'wb') as pdf_file:\n",
    "    pdf_file.write(experimentsApi.get_experiment(experiment_id, format='pdf', _preload_content=False).data)\n",
    "    print(f'A PDF file has been extracted: {pdf_file_name}')\n",
    "    \n",
    "# ELN export\n",
    "eln_file_name = f'{output_file}.eln'\n",
    "with open(eln_file_name, 'wb') as eln_file:\n",
    "    eln_file.write(experimentsApi.get_experiment(experiment_id, format='eln', _preload_content=False).data)\n",
    "    print(f'An ELN file has been extracted: {eln_file_name}')\n",
    "    \n",
    "# JSON export\n",
    "json_file_name = f'{output_file}.json'\n",
    "with open(json_file_name, 'wb') as json_file:\n",
    "    json_file.write(experimentsApi.get_experiment(experiment_id, format='json', _preload_content=False).data)\n",
    "    print(f'A JSON file has been extracted: {json_file_name}')\n",
    "    \n",
    "## CSV export\n",
    "## 注：CSV形式での保存はeLabFTWのAPI機能が不完全であり、必要に応じて別途のコード作成が必要\n",
    "# csv_file_name = f'{output_file}.csv'\n",
    "# with open(csv_file_name, 'wb') as csv_file:\n",
    "#     csv_file.write(experimentsApi.get_experiment(experiment_id, format='csv', _preload_content=False).data)\n",
    "#     print(f'A CSV file has been extracted: {csv_file_name}')"
   ],
   "id": "82ab7f72bd004d8b",
   "outputs": [
    {
     "name": "stdout",
     "output_type": "stream",
     "text": [
      "A PDF file has been extracted: ./test_file/downloaded/2071_Test_No.2_1002_2024-12-10_14-26-19_export.pdf\n",
      "A CSV file has been extracted: ./test_file/downloaded/2071_Test_No.2_1002_2024-12-10_14-26-19_export.csv\n",
      "An ELN file has been extracted: ./test_file/downloaded/2071_Test_No.2_1002_2024-12-10_14-26-19_export.eln\n",
      "A JSON file has been extracted: ./test_file/downloaded/2071_Test_No.2_1002_2024-12-10_14-26-19_export.json\n"
     ]
    }
   ],
   "execution_count": 7
  },
  {
   "metadata": {},
   "cell_type": "markdown",
   "source": [
    "ダウンロードが完了したら、保存されているファイルを確認してみましょう。<br>\n",
    "次のステップでは、特定のファイルまたはフォルダーの変化を検出して、実験ノートの内容を更新するサンプルコードを見てみましょう。"
   ],
   "id": "39f587b21c87dae1"
  }
 ],
 "metadata": {
  "kernelspec": {
   "display_name": "Python 3",
   "language": "python",
   "name": "python3"
  },
  "language_info": {
   "codemirror_mode": {
    "name": "ipython",
    "version": 2
   },
   "file_extension": ".py",
   "mimetype": "text/x-python",
   "name": "python",
   "nbconvert_exporter": "python",
   "pygments_lexer": "ipython2",
   "version": "2.7.6"
  }
 },
 "nbformat": 4,
 "nbformat_minor": 5
}
